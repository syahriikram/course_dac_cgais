{
 "cells": [
  {
   "cell_type": "markdown",
   "id": "6c85edcb",
   "metadata": {},
   "source": [
    "# Introduction to AI Agents using Open AI Agents SDK\n",
    "\n",
    "## Overview\n",
    "This notebook serves as an introduction to AI Agents using the OpenAI Agents SDK. It provides a basic setup for environment configuration and API key management, establishing the foundation for working with OpenAI's agent framework.\n",
    "\n",
    "## File Structure\n",
    "The notebook contains 3 cells:\n",
    "- **Cell 0**: Title and introduction\n",
    "- **Cell 1**: Environment setup and API key configuration\n",
    "- **Cell 2**: Empty cell (placeholder for future content)\n",
    "\n",
    "## Libraries and Dependencies\n",
    "\n",
    "### Required Libraries\n",
    "```python\n",
    "import os\n",
    "from dotenv import load_dotenv\n",
    "```\n",
    "\n",
    "### Library Descriptions\n",
    "- **`os`**: Python's built-in operating system interface module\n",
    "  - Used for accessing environment variables via `os.getenv()`\n",
    "- **`python-dotenv`**: Third-party library for loading environment variables from `.env` files\n",
    "  - Provides the `load_dotenv()` function to automatically load environment variables\n",
    "\n",
    "## Environment Configuration\n",
    "\n",
    "### API Key Setup\n",
    "The notebook requires the following environment variable:\n",
    "- **`OPENAI_API_KEY`**: Your OpenAI API key for accessing OpenAI services\n",
    "\n",
    "### Configuration Process\n",
    "1. **Environment Loading**: Uses `load_dotenv()` to load variables from a `.env` file\n",
    "2. **API Key Retrieval**: Fetches the OpenAI API key using `os.getenv(\"OPENAI_API_KEY\")`\n",
    "3. **Validation**: Checks if the API key is successfully loaded\n",
    "4. **Security**: Provides optional debugging mode to display the key (disabled by default)\n",
    "\n",
    "## Code Functionality\n",
    "\n",
    "### Environment Setup\n",
    "```python\n",
    "# Load environment variables from .env file\n",
    "load_dotenv()\n",
    "\n",
    "# Fetch API keys\n",
    "openai_api_key = os.getenv(\"OPENAI_API_KEY\")\n",
    "```\n",
    "\n",
    "### API Key Validation\n",
    "```python\n",
    "# Check if API keys are loaded\n",
    "if openai_api_key:\n",
    "    print(\"✅ API keys are successfully loaded.\")\n",
    "else:\n",
    "    print(\"⚠️ Warning: One or more API keys are missing.\")\n",
    "```\n",
    "\n",
    "### Security Features\n",
    "```python\n",
    "# Optionally, display API keys (for debugging purposes only)\n",
    "display_keys = False  # Change to True if you want to see the keys\n",
    "\n",
    "if display_keys:\n",
    "    print(f\"OpenAI API Key: {openai_api_key}\")\n",
    "else:\n",
    "    print(\"🔒 API keys are loaded but hidden for security.\")\n",
    "```\n",
    "\n",
    "## Setup Requirements\n",
    "\n",
    "### Prerequisites\n",
    "1. **Python Environment**: Python 3.x with pip package manager\n",
    "2. **Required Packages**: Install using `pip install python-dotenv`\n",
    "3. **OpenAI Account**: Active OpenAI account with API access\n",
    "4. **Environment File**: Create a `.env` file in the project root\n",
    "\n",
    "### Environment File (.env)\n",
    "Create a `.env` file with the following content:\n",
    "```\n",
    "OPENAI_API_KEY=your_openai_api_key_here\n",
    "```\n",
    "\n",
    "### Installation Commands\n",
    "```bash\n",
    "pip install python-dotenv\n",
    "```\n",
    "\n",
    "## Usage Instructions\n",
    "\n",
    "1. **Setup Environment**: Ensure your `.env` file contains the required API key\n",
    "2. **Run the Notebook**: Execute all cells in order\n",
    "3. **Verify Setup**: Check the output messages to confirm API key loading\n",
    "4. **Debug Mode**: Optionally set `display_keys = True` to verify the API key value\n",
    "\n",
    "## Expected Output\n",
    "\n",
    "### Successful Setup\n",
    "```\n",
    "✅ API keys are successfully loaded.\n",
    "🔒 API keys are loaded but hidden for security.\n",
    "```\n",
    "\n",
    "### Missing API Key\n",
    "```\n",
    "⚠️ Warning: One or more API keys are missing.\n",
    "🔒 API keys are loaded but hidden for security.\n",
    "```\n",
    "\n",
    "## Security Considerations\n",
    "\n",
    "1. **API Key Protection**: Never commit API keys to version control\n",
    "2. **Environment Variables**: Use `.env` files for local development\n",
    "3. **Debug Mode**: Only enable `display_keys = True` for troubleshooting\n",
    "4. **File Permissions**: Ensure `.env` file has appropriate read permissions\n",
    "\n",
    "## Troubleshooting\n",
    "\n",
    "### Common Issues\n",
    "1. **Missing .env file**: Create the file in the project root directory\n",
    "2. **Invalid API key**: Verify the key format and validity in OpenAI dashboard\n",
    "3. **Import errors**: Ensure `python-dotenv` is installed\n",
    "4. **Permission errors**: Check file permissions for the `.env` file\n",
    "\n",
    "### Debug Steps\n",
    "1. Set `display_keys = True` to verify API key loading\n",
    "2. Check the `.env` file format and location\n",
    "3. Verify OpenAI API key is active and has sufficient credits\n",
    "4. Test API key manually using OpenAI's API testing tools\n",
    "\n",
    "## Next Steps\n",
    "\n",
    "This notebook serves as a foundation for:\n",
    "- Setting up OpenAI Agents SDK projects\n",
    "- Implementing AI agent workflows\n",
    "- Building more complex agent-based applications\n",
    "- Learning the basics of environment configuration for AI projects\n",
    "\n",
    "The notebook is designed to be extended with additional agent implementations and more sophisticated AI workflows.\n"
   ]
  },
  {
   "cell_type": "code",
   "execution_count": 12,
   "id": "15c2688d",
   "metadata": {},
   "outputs": [
    {
     "name": "stdout",
     "output_type": "stream",
     "text": [
      "✅ API keys are successfully loaded.\n",
      "🔒 API keys are loaded but hidden for security.\n"
     ]
    }
   ],
   "source": [
    "import os\n",
    "from dotenv import load_dotenv\n",
    "from agents import Agent, WebSearchTool, trace, Runner, gen_trace_id, function_tool\n",
    "from IPython.display import display, Markdown\n",
    "from pydantic import BaseModel, Field\n",
    "\n",
    "# Load environment variables from .env file\n",
    "load_dotenv()\n",
    "\n",
    "# Fetch API keys\n",
    "openai_api_key = os.getenv(\"OPENAI_API_KEY\")\n",
    "\n",
    "# Check if API keys are loaded\n",
    "if openai_api_key:\n",
    "    print(\"✅ API keys are successfully loaded.\")\n",
    "else:\n",
    "    print(\"⚠️ Warning: One or more API keys are missing.\")\n",
    "\n",
    "# Optionally, display API keys (for debugging purposes only)\n",
    "display_keys = False  # Change to True if you want to see the keys\n",
    "\n",
    "if display_keys:\n",
    "    print(f\"OpenAI API Key: {openai_api_key}\")\n",
    "else:\n",
    "    print(\"🔒 API keys are loaded but hidden for security.\")"
   ]
  },
  {
   "cell_type": "markdown",
   "id": "6d9fc1b2",
   "metadata": {},
   "source": []
  },
  {
   "cell_type": "code",
   "execution_count": 3,
   "id": "a05006ac",
   "metadata": {},
   "outputs": [],
   "source": [
    "# Make an agent with name, instructions, model\n",
    "\n",
    "agent = Agent(name=\"Jokester\", instructions=\"You are a joke teller\", model=\"gpt-4o-mini\")"
   ]
  },
  {
   "cell_type": "code",
   "execution_count": 4,
   "id": "6a9239bc",
   "metadata": {},
   "outputs": [
    {
     "name": "stdout",
     "output_type": "stream",
     "text": [
      "Why did the autonomous AI agent bring a ladder to work?\n",
      "\n",
      "Because it wanted to reach new heights in its decision-making!\n"
     ]
    }
   ],
   "source": [
    "# Run the joke with Runner.run(agent, prompt) then print final_output\n",
    "\n",
    "with trace(\"Telling a joke\"):\n",
    "    result = await Runner.run(agent, \"Tell a joke about Autonomous AI Agents\")\n",
    "    print(result.final_output)"
   ]
  },
  {
   "cell_type": "markdown",
   "id": "881facb9",
   "metadata": {},
   "source": [
    "You can check what the AI agent in Traces within the Open AI Console: \n",
    "https://platform.openai.com/logs?api=traces"
   ]
  },
  {
   "cell_type": "markdown",
   "id": "1d5b89dd",
   "metadata": {},
   "source": [
    "# OpenAI Hosted Tools\n",
    "\n",
    "OpenAI Agents SDK includes the following hosted tools:\n",
    "\n",
    "The `WebSearchTool` lets an agent search the web.  \n",
    "The `FileSearchTool` allows retrieving information from your OpenAI Vector Stores.  \n",
    "The `ComputerTool` allows automating computer use tasks like taking screenshots and clicking.\n",
    "\n",
    "### Important note - API charge of WebSearchTool\n",
    "\n",
    "There is a cost associated and currently it is 2.5 cents per call for OpenAI WebSearchTool. That can add up to $2-$3 for the next 2 labs. \n",
    "\n",
    "Costs are here: https://platform.openai.com/docs/pricing#web-search"
   ]
  },
  {
   "cell_type": "code",
   "execution_count": 7,
   "id": "51717c9a",
   "metadata": {},
   "outputs": [],
   "source": [
    "# Add this import at the top of your notebook\n",
    "from agents import Agent, WebSearchTool, trace, Runner\n",
    "from agents.model_settings import ModelSettings\n",
    "\n",
    "# ... existing code ...\n",
    "\n",
    "INSTRUCTIONS = \"You are a research assistant. Given a search term, you search the web for that term and \\\n",
    "produce a concise summary of the results. The summary must 2-3 paragraphs and less than 300 \\\n",
    "words. Capture the main points. Write succintly, no need to have complete sentences or good \\\n",
    "grammar. This will be consumed by someone synthesizing a report, so it's vital you capture the \\\n",
    "essence and ignore any fluff. Do not include any additional commentary other than the summary itself.\"\n",
    "\n",
    "search_agent = Agent(\n",
    "    name=\"Search agent\",\n",
    "    instructions=INSTRUCTIONS,\n",
    "    tools=[WebSearchTool(search_context_size=\"low\")],\n",
    "    model=\"gpt-4o-mini\",\n",
    "    model_settings=ModelSettings(tool_choice=\"required\"),\n",
    ")"
   ]
  },
  {
   "cell_type": "code",
   "execution_count": 10,
   "id": "e9762fc9",
   "metadata": {},
   "outputs": [
    {
     "data": {
      "text/markdown": [
       "In 2025, several AI agent frameworks have emerged, each offering unique capabilities for developing intelligent, autonomous systems.\n",
       "\n",
       "**LangChain** is a versatile framework that enables the creation of LLM-powered applications by addressing challenges like context retention and multi-step task execution. It offers chain and agent abstractions for workflows, integrates with multiple LLMs (OpenAI, Hugging Face), and provides tools for API interactions, semantic search, and prompt engineering. It's ideal for conversational AI, automated research assistants, and document analysis. ([linkedin.com](https://www.linkedin.com/pulse/top-5-frameworks-building-ai-agents-2025-sahil-malhotra-wmisc?utm_source=openai))\n",
       "\n",
       "**LangGraph**, an extension of LangChain, specializes in stateful, multi-actor systems, making it suitable for complex workflows and adaptive AI applications. It features multi-agent coordination and planning, a graph-based representation of workflows, and advanced error handling and adaptive execution. It's best for interactive storytelling, multi-step chatbots, and strategic simulations. ([linkedin.com](https://www.linkedin.com/pulse/top-5-frameworks-building-ai-agents-2025-sahil-malhotra-wmisc?utm_source=openai))\n",
       "\n",
       "**CrewAI** focuses on role-based AI agents, facilitating collaborative problem-solving environments that require diverse expertise. Its key features include a role-based architecture for specialized agents, dynamic task planning and conflict resolution, and simulation engines for training and testing. It's well-suited for project management simulations, healthcare coordination, and environmental impact assessments. ([linkedin.com](https://www.linkedin.com/pulse/top-5-frameworks-building-ai-agents-2025-sahil-malhotra-wmisc?utm_source=openai))\n",
       "\n",
       "**AutoGen**, developed by Microsoft, offers a high-level approach to building multi-agent applications. It simplifies the management of multiple AI agents that communicate and collaborate to solve complex tasks. AutoGen provides an agent communication and coordination framework, built-in tools for prompt management and conversation history, and native support for various model providers and APIs. It's ideal for enterprise-level applications needing event-driven workflows, such as customer service automation. ([phyniks.com](https://phyniks.com/blog/top-7-agentic-ai-frameworks-in-2025?utm_source=openai))\n",
       "\n",
       "**Eliza** is an open-source, Web3-friendly AI agent operating system that integrates seamlessly with blockchain applications. It allows developers to create and deploy AI agents capable of interacting with smart contracts and blockchain data, expanding the potential of decentralized applications. ([arxiv.org](https://arxiv.org/abs/2501.06781?utm_source=openai))\n",
       "\n",
       "These frameworks represent the forefront of AI agent development in 2025, each catering to different needs and applications in the rapidly evolving field of artificial intelligence. "
      ],
      "text/plain": [
       "<IPython.core.display.Markdown object>"
      ]
     },
     "metadata": {},
     "output_type": "display_data"
    }
   ],
   "source": [
    "message = \"Latest AI Agent frameworks in 2025\"\n",
    "\n",
    "with trace(\"Search\"):\n",
    "    result = await Runner.run(search_agent, message)\n",
    "\n",
    "display(Markdown(result.final_output))"
   ]
  },
  {
   "cell_type": "markdown",
   "id": "7605c27a",
   "metadata": {},
   "source": [
    "As always, take a look at the trace: \n",
    "https://platform.openai.com/traces\n",
    "\n",
    "We will now use Structured Outputs, and include a description of the fields"
   ]
  },
  {
   "cell_type": "code",
   "execution_count": 13,
   "id": "39c3dc37",
   "metadata": {},
   "outputs": [],
   "source": [
    "# See note above about cost of WebSearchTool\n",
    "\n",
    "HOW_MANY_SEARCHES = 3\n",
    "\n",
    "INSTRUCTIONS = f\"You are a helpful research assistant. Given a query, come up with a set of web searches \\\n",
    "to perform to best answer the query. Output {HOW_MANY_SEARCHES} terms to query for.\"\n",
    "\n",
    "# Use Pydantic to define the Schema of our response - this is known as \"Structured Outputs\"\n",
    "# With massive thanks to student Wes C. for discovering and fixing a nasty bug with this!\n",
    "\n",
    "class WebSearchItem(BaseModel):\n",
    "    reason: str = Field(description=\"Your reasoning for why this search is important to the query.\")\n",
    "\n",
    "    query: str = Field(description=\"The search term to use for the web search.\")\n",
    "\n",
    "\n",
    "class WebSearchPlan(BaseModel):\n",
    "    searches: list[WebSearchItem] = Field(description=\"A list of web searches to perform to best answer the query.\")\n",
    "\n",
    "\n",
    "planner_agent = Agent(\n",
    "    name=\"PlannerAgent\",\n",
    "    instructions=INSTRUCTIONS,\n",
    "    model=\"gpt-4o-mini\",\n",
    "    output_type=WebSearchPlan,\n",
    ")"
   ]
  },
  {
   "cell_type": "code",
   "execution_count": 14,
   "id": "307c6f60",
   "metadata": {},
   "outputs": [
    {
     "name": "stdout",
     "output_type": "stream",
     "text": [
      "searches=[WebSearchItem(reason='To find information on emerging AI agent frameworks that are expected to be released in 2025.', query='latest AI agent frameworks 2025'), WebSearchItem(reason='To identify trends and advancements in AI technology leading up to 2025.', query='AI frameworks trends 2025'), WebSearchItem(reason='To explore specific features and capabilities of upcoming AI agent frameworks.', query='new features AI agent frameworks 2025')]\n"
     ]
    }
   ],
   "source": [
    "message = \"Latest AI Agent frameworks in 2025\"\n",
    "\n",
    "with trace(\"Search\"):\n",
    "    result = await Runner.run(planner_agent, message)\n",
    "    print(result.final_output)"
   ]
  }
 ],
 "metadata": {
  "kernelspec": {
   "display_name": "base",
   "language": "python",
   "name": "python3"
  },
  "language_info": {
   "codemirror_mode": {
    "name": "ipython",
    "version": 3
   },
   "file_extension": ".py",
   "mimetype": "text/x-python",
   "name": "python",
   "nbconvert_exporter": "python",
   "pygments_lexer": "ipython3",
   "version": "3.12.2"
  }
 },
 "nbformat": 4,
 "nbformat_minor": 5
}
