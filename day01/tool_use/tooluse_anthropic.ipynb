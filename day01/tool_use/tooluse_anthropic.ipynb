{
 "cells": [
  {
   "cell_type": "markdown",
   "metadata": {},
   "source": [
    "## Wikipedia Article Retrieval Tool\n",
    "\n",
    "This section defines a simple Python function, `get_article`, that uses the `wikipedia` Python package to search for and retrieve the content of a Wikipedia article based on a search term. This function will be used as a tool for the agent to fetch up-to-date information from Wikipedia."
   ]
  },
  {
   "cell_type": "code",
   "execution_count": null,
   "metadata": {},
   "outputs": [],
   "source": [
    "import wikipedia\n",
    "\n",
    "def get_article(search_term):\n",
    "    results = wikipedia.search(search_term)\n",
    "    first_result = results[0]\n",
    "    page = wikipedia.page(first_result, auto_suggest=False)\n",
    "    return page.content"
   ]
  },
  {
   "cell_type": "markdown",
   "metadata": {},
   "source": [
    "## Example: Fetching and Previewing Wikipedia Articles\n",
    "\n",
    "Here, we demonstrate how to use the `get_article` function to retrieve and preview the content of Wikipedia articles for various search terms, such as \"Avengers: Doomsday\", \"Nezha 2\", \"History of Malaysia\", and \"Iron Man\". Only a preview of the article content is printed for brevity."
   ]
  },
  {
   "cell_type": "code",
   "execution_count": null,
   "metadata": {},
   "outputs": [],
   "source": [
    "article = get_article(\"Avengers: Doomsday\")\n",
    "print(article[:1000]) # article is very long, so let's just print a preview"
   ]
  },
  {
   "cell_type": "code",
   "execution_count": null,
   "metadata": {},
   "outputs": [],
   "source": [
    "article = get_article(\"Nezha 2\")\n",
    "print(article[:500]) # article is very long, so let's just print a preview"
   ]
  },
  {
   "cell_type": "code",
   "execution_count": null,
   "metadata": {},
   "outputs": [],
   "source": [
    "article = get_article(\"History of Malaysia\")\n",
    "print(article[:3000]) #article is super long so let's just print a preview"
   ]
  },
  {
   "cell_type": "code",
   "execution_count": null,
   "metadata": {},
   "outputs": [],
   "source": [
    "article = get_article(\"Iron Man\")\n",
    "print(article[:1000]) #article is super long so let's just print a preview"
   ]
  },
  {
   "cell_type": "markdown",
   "metadata": {},
   "source": [
    "## Tool Schema Definition for Agent Use\n",
    "\n",
    "This cell defines a tool schema dictionary, `article_search_tool`, which describes the Wikipedia retrieval tool in a format compatible with agentic LLM APIs (like Anthropic Claude). The schema includes the tool's name, description, input schema, and required fields."
   ]
  },
  {
   "cell_type": "code",
   "execution_count": null,
   "metadata": {},
   "outputs": [],
   "source": [
    "article_search_tool = {\n",
    "    \"name\": \"get_article\",\n",
    "    \"description\": \"A tool to retrieve an up to date Wikipedia article.\",\n",
    "    \"input_schema\": {\n",
    "        \"type\": \"object\",\n",
    "        \"properties\": {\n",
    "            \"search_term\": {\n",
    "                \"type\": \"string\",\n",
    "                \"description\": \"The search term to find a wikipedia article by title\"\n",
    "            },\n",
    "        },\n",
    "        \"required\": [\"search_term\"]\n",
    "    }\n",
    "}"
   ]
  },
  {
   "cell_type": "markdown",
   "metadata": {},
   "source": [
    "## Setting Up Anthropic Client and Making a Tool-Use Request\n",
    "\n",
    "This section initializes the Anthropic API client and demonstrates how to send a message to the Claude model, asking a question that may require tool use (e.g., \"What is the box office for Nezha 2?\"). The tool schema is provided to the model, enabling it to call the Wikipedia tool if needed."
   ]
  },
  {
   "cell_type": "code",
   "execution_count": null,
   "metadata": {},
   "outputs": [],
   "source": [
    "from anthropic import Anthropic\n",
    "from dotenv import load_dotenv\n",
    "\n",
    "load_dotenv()\n",
    "\n",
    "client = Anthropic()\n",
    "\n",
    "messages = [{\"role\": \"user\", \"content\": \"What is the box office for Nezha 2\"}]\n",
    "\n",
    "response = client.messages.create(\n",
    "        model=\"claude-3-7-sonnet-20250219\",\n",
    "        messages=messages,\n",
    "        max_tokens=1000,\n",
    "        tools=[article_search_tool]\n",
    "    )"
   ]
  },
  {
   "cell_type": "code",
   "execution_count": null,
   "metadata": {},
   "outputs": [],
   "source": [
    "response.content"
   ]
  },
  {
   "cell_type": "markdown",
   "metadata": {},
   "source": [
    "## Appending the Assistant's Tool Use to the Conversation\n",
    "\n",
    "This cell appends the assistant's tool use response to the ongoing conversation history, preparing for the next step in the agentic interaction."
   ]
  },
  {
   "cell_type": "code",
   "execution_count": null,
   "metadata": {},
   "outputs": [],
   "source": [
    "messages.append({\"role\": \"assistant\", \"content\": response.content})"
   ]
  },
  {
   "cell_type": "markdown",
   "metadata": {},
   "source": [
    "## Extracting Tool Use Information\n",
    "\n",
    "This section extracts the tool name and input parameters from the model's tool use response, so that the tool can be called programmatically."
   ]
  },
  {
   "cell_type": "code",
   "execution_count": null,
   "metadata": {},
   "outputs": [],
   "source": [
    "# This is a simple, but brittle way of getting the tool use information\n",
    "# We're simply taking the last block from Claude's response.\n",
    "tool_use = response.content[-1]\n",
    "tool_name = tool_use.name\n",
    "tool_input = tool_use.input\n",
    "print(\"Tool name: \", tool_name)\n",
    "print(\"Tool input\", tool_input)"
   ]
  },
  {
   "cell_type": "markdown",
   "metadata": {},
   "source": [
    "## Executing the Tool and Returning Results\n",
    "\n",
    "Here, the code checks if the model requested the Wikipedia tool, executes the tool with the provided input, and prints a preview of the Wikipedia article content."
   ]
  },
  {
   "cell_type": "code",
   "execution_count": null,
   "metadata": {},
   "outputs": [],
   "source": [
    "if tool_name == \"get_article\":\n",
    "    search_term = tool_input[\"search_term\"]\n",
    "    wiki_result = get_article(search_term)\n",
    "    print(f\"Searching Wikipedia for {search_term}\")\n",
    "    print(\"WIKIPEDIA PAGE CONTENT:\")\n",
    "    print(wiki_result[:500]) #just printing a small bit of the article because it's so long"
   ]
  },
  {
   "cell_type": "markdown",
   "metadata": {},
   "source": [
    "## Constructing a Tool Result Message\n",
    "\n",
    "This cell shows how to construct a message containing the tool result, formatted according to the agentic API's expectations, so it can be sent back to the model."
   ]
  },
  {
   "cell_type": "code",
   "execution_count": null,
   "metadata": {},
   "outputs": [],
   "source": [
    "{\n",
    "  \"role\": \"user\",\n",
    "  \"content\": [\n",
    "    {\n",
    "      \"type\": \"tool_result\",\n",
    "      \"tool_use_id\": \"toolu_01A09q90qw90lq917835lq9\",\n",
    "      \"content\": \"The result of actually calling the tool goes here\"\n",
    "    }\n",
    "  ]\n",
    "}"
   ]
  },
  {
   "cell_type": "markdown",
   "metadata": {},
   "source": [
    "## Sending the Tool Result to the Conversation\n",
    "\n",
    "The tool result message is appended to the conversation history, allowing the agent to use the tool's output in its next response."
   ]
  },
  {
   "cell_type": "code",
   "execution_count": null,
   "metadata": {},
   "outputs": [],
   "source": [
    "tool_response = {\n",
    "    \"role\": \"user\",\n",
    "    \"content\": [\n",
    "        {\n",
    "        \"type\": \"tool_result\",\n",
    "        \"tool_use_id\": tool_use.id,\n",
    "        \"content\": wiki_result\n",
    "        }\n",
    "    ]\n",
    "}"
   ]
  },
  {
   "cell_type": "code",
   "execution_count": null,
   "metadata": {},
   "outputs": [],
   "source": [
    "tool_response"
   ]
  },
  {
   "cell_type": "code",
   "execution_count": null,
   "metadata": {},
   "outputs": [],
   "source": [
    "messages.append(tool_response)"
   ]
  },
  {
   "cell_type": "code",
   "execution_count": null,
   "metadata": {},
   "outputs": [],
   "source": [
    "follow_up_response = client.messages.create(\n",
    "    model=\"claude-3-7-sonnet-20250219\",\n",
    "    messages=messages,\n",
    "    max_tokens=1000,\n",
    "    tools=[article_search_tool]\n",
    ")"
   ]
  },
  {
   "cell_type": "code",
   "execution_count": null,
   "metadata": {},
   "outputs": [],
   "source": [
    "follow_up_response.content[0].text"
   ]
  },
  {
   "cell_type": "markdown",
   "metadata": {},
   "source": [
    "## Model Follow-up: Final Answer Generation\n",
    "\n",
    "This section sends the updated conversation (including the tool result) back to the model, prompting it to generate a final answer that incorporates the information retrieved from Wikipedia."
   ]
  },
  {
   "cell_type": "code",
   "execution_count": null,
   "metadata": {},
   "outputs": [],
   "source": [
    "\n",
    "def answer_question(question):\n",
    "    messages = [{\"role\": \"user\", \"content\": question}]\n",
    "\n",
    "    response = client.messages.create(\n",
    "        model=\"claude-3-7-sonnet-20250219\",\n",
    "        messages=messages,\n",
    "        max_tokens=1000,\n",
    "        tools=[article_search_tool]\n",
    "    )\n",
    "    \n",
    "    if(response.stop_reason == \"tool_use\"):\n",
    "        tool_use = response.content[-1]\n",
    "        tool_name = tool_use.name\n",
    "        tool_input = tool_use.input\n",
    "        #Add Claude's tool use call to messages:\n",
    "        messages.append({\"role\": \"assistant\", \"content\": response.content})\n",
    "\n",
    "        if tool_name == \"get_article\":\n",
    "            search_term = tool_input[\"search_term\"]\n",
    "            print(f\"Claude wants to get an article for {search_term}\")\n",
    "            wiki_result = get_article(search_term) #get wikipedia article content\n",
    "            #construct our tool_result message\n",
    "            tool_response = {\n",
    "                \"role\": \"user\",\n",
    "                \"content\": [\n",
    "                    {\n",
    "                    \"type\": \"tool_result\",\n",
    "                    \"tool_use_id\": tool_use.id,\n",
    "                    \"content\": wiki_result\n",
    "                    }\n",
    "                ]\n",
    "                }\n",
    "            messages.append(tool_response)\n",
    "            #respond back to Claude\n",
    "            response = client.messages.create(\n",
    "                model=\"claude-3-7-sonnet-20250219\",\n",
    "                messages=messages,\n",
    "                max_tokens=1000,\n",
    "                tools=[article_search_tool]\n",
    "            )\n",
    "            print(\"Claude's final answer:\")\n",
    "            print(response.content[0].text)\n",
    "\n",
    "    else:\n",
    "        print(\"Claude did not call our tool\")\n",
    "        print(response.content[0].text)"
   ]
  },
  {
   "cell_type": "markdown",
   "metadata": {},
   "source": [
    "## Agentic Tool Use: Full Question-Answering Loop\n",
    "\n",
    "This cell defines a reusable function, `answer_question`, that demonstrates the full agentic tool-use loop: sending a question to the model, detecting tool use, executing the tool, sending the result, and printing the model's final answer."
   ]
  },
  {
   "cell_type": "code",
   "execution_count": null,
   "metadata": {},
   "outputs": [],
   "source": [
    "answer_question(\"What are the names of all the Avengers films in the Marvel Cinematic Universe?\")"
   ]
  },
  {
   "cell_type": "markdown",
   "metadata": {},
   "source": [
    "## Web Search with Anthropic Claude API\n",
    "\n",
    "This code demonstrates how to use Anthropic's Claude API to perform web searches using the built-in web_search_20250305 tool. This allows Claude to search the web for current information and provide up-to-date responses.\n",
    "\n",
    "### Overview\n",
    "The code creates a simple web search query using Claude's web search capability,which is particularly useful for getting current information that might not be available in the model's training data.\n",
    "\n",
    "### Key Components\n",
    "\n",
    "### Imports\n",
    "- `anthropic`: The official Anthropic Python client\n",
    "- `IPython.display`: For enhanced display formatting in Jupyter notebooks\n",
    "- `json`: For pretty-printing response objects\n",
    "\n",
    "### API Configuration\n",
    "- Model: `claude-opus-4-1-20250805` (latest Claude Opus model)\n",
    "- Max tokens: 1024 (controls response length)\n",
    "- Tool: `web_search_20250305` with max 5 uses per request\n",
    "\n",
    "### Usage\n",
    "\n",
    "1. **Setup**: Ensure you have the Anthropic API key configured\n",
    "2. **Query**: Modify the user message to ask any question requiring current information\n",
    "3. **Execute**: Run the code to get Claude's response with web search results\n",
    "\n",
    "### Example Use Cases\n",
    "* Getting current software version information\n",
    "* Finding recent news or updates\n",
    "* Researching current events\n",
    "* Checking latest technology trends\n",
    "* Verifying current facts or statistics\n",
    "\n",
    "### Response Format\n",
    "The response will contain:\n",
    "* Claude's analysis of the search results\n",
    "* Relevant information found through web search\n",
    "* Citations to source URLs when available\n",
    "\n",
    "### Cost Considerations\n",
    "* Web search tool usage incurs additional costs\n",
    "* Each search counts toward your API usage quota\n",
    "* Monitor usage in your Anthropic dashboard\n"
   ]
  },
  {
   "cell_type": "code",
   "execution_count": null,
   "metadata": {},
   "outputs": [],
   "source": [
    "import anthropic\n",
    "from IPython.display import display, Markdown\n",
    "import json \n",
    "\n",
    "client = anthropic.Anthropic()\n",
    "\n",
    "response = client.messages.create(\n",
    "    model=\"claude-opus-4-1-20250805\",\n",
    "    max_tokens=1024,\n",
    "    messages=[\n",
    "        {\n",
    "            \"role\": \"user\",\n",
    "            \"content\": \"Can you teach me how to code an AI agent using the Anthropic API?\"\n",
    "        }\n",
    "    ],\n",
    "    tools=[{\n",
    "        \"type\": \"web_search_20250305\",\n",
    "        \"name\": \"web_search\",\n",
    "        \"max_uses\": 5\n",
    "    }]\n",
    ")\n",
    "print(response)"
   ]
  },
  {
   "cell_type": "code",
   "execution_count": null,
   "metadata": {},
   "outputs": [],
   "source": [
    "# Option 1: Pretty print the entire response as JSON\n",
    "print(\"=== Full Response ===\")\n",
    "print(json.dumps(response.model_dump(), indent=2))\n",
    "\n",
    "# Option 2: Display just the content in a formatted way\n",
    "print(\"\\n=== Response Content ===\")\n",
    "for i, content_block in enumerate(response.content):\n",
    "    print(f\"\\n--- Content Block {i+1} ---\")\n",
    "    print(f\"Type: {content_block.type}\")\n",
    "    if hasattr(content_block, 'text'):\n",
    "        print(f\"Text: {content_block.text}\")\n",
    "    if hasattr(content_block, 'name'):\n",
    "        print(f\"Tool Name: {content_block.name}\")\n",
    "        print(f\"Tool Input: {content_block.input}\")\n",
    "\n",
    "# Option 3: Display as markdown for better formatting\n",
    "print(\"\\n=== Formatted Display ===\")\n",
    "formatted_output = \"## Claude Response\\n\\n\"\n",
    "for i, content_block in enumerate(response.content):\n",
    "    formatted_output += f\"### Block {i+1}\\n\"\n",
    "    formatted_output += f\"**Type:** {content_block.type}\\n\\n\"\n",
    "    \n",
    "    if hasattr(content_block, 'text'):\n",
    "        formatted_output += f\"**Content:**\\n{content_block.text}\\n\\n\"\n",
    "    if hasattr(content_block, 'name'):\n",
    "        formatted_output += f\"**Tool:** {content_block.name}\\n\"\n",
    "        formatted_output += f\"**Input:** {content_block.input}\\n\\n\"\n",
    "\n",
    "display(Markdown(formatted_output))"
   ]
  }
 ],
 "metadata": {
  "kernelspec": {
   "display_name": "base",
   "language": "python",
   "name": "python3"
  },
  "language_info": {
   "codemirror_mode": {
    "name": "ipython",
    "version": 3
   },
   "file_extension": ".py",
   "mimetype": "text/x-python",
   "name": "python",
   "nbconvert_exporter": "python",
   "pygments_lexer": "ipython3",
   "version": "3.12.2"
  }
 },
 "nbformat": 4,
 "nbformat_minor": 2
}
