{
 "cells": [
  {
   "cell_type": "code",
   "execution_count": 12,
   "id": "541d06f8",
   "metadata": {},
   "outputs": [
    {
     "data": {
      "text/html": [
       "<script>Jupyter.notebook.kernel.restart()</script>"
      ],
      "text/plain": [
       "<IPython.core.display.HTML object>"
      ]
     },
     "execution_count": 12,
     "metadata": {},
     "output_type": "execute_result"
    }
   ],
   "source": [
    "from IPython.core.display import HTML\n",
    "HTML(\"<script>Jupyter.notebook.kernel.restart()</script>\")"
   ]
  },
  {
   "cell_type": "code",
   "execution_count": 13,
   "id": "d8276eec",
   "metadata": {},
   "outputs": [
    {
     "name": "stdout",
     "output_type": "stream",
     "text": [
      "Python version: 3.12.2\n",
      "Boto3 SDK version: 1.36.1\n",
      "NumPy version: 1.26.4\n",
      "SciPy imported successfully\n",
      "Seaborn import failed: module 'pyarrow' has no attribute '__version__'\n",
      "Continuing without seaborn - matplotlib will be used instead\n"
     ]
    }
   ],
   "source": [
    "# Standard library imports\n",
    "import os\n",
    "import re\n",
    "import sys\n",
    "import json\n",
    "import base64\n",
    "from io import BytesIO\n",
    "\n",
    "# Other library imports\n",
    "import boto3\n",
    "import numpy as np\n",
    "from PIL import Image\n",
    "\n",
    "# Print SDK versions\n",
    "print(f\"Python version: {sys.version.split()[0]}\")\n",
    "print(f\"Boto3 SDK version: {boto3.__version__}\")\n",
    "print(f\"NumPy version: {np.__version__}\")\n",
    "\n",
    "# Try to import scipy with error handling\n",
    "try:\n",
    "    from scipy.spatial.distance import cdist\n",
    "    print(\"SciPy imported successfully\")\n",
    "except Exception as e:\n",
    "    print(f\"SciPy import failed: {e}\")\n",
    "    print(\"Using NumPy fallback for distance calculations\")\n",
    "    \n",
    "    # Simple numpy-based distance calculation\n",
    "    def cdist_numpy(XA, XB, metric='euclidean'):\n",
    "        \"\"\"Simple numpy-based distance calculation as fallback\"\"\"\n",
    "        if metric == 'euclidean':\n",
    "            return np.sqrt(((XA[:, np.newaxis, :] - XB[np.newaxis, :, :]) ** 2).sum(axis=2))\n",
    "        else:\n",
    "            raise ValueError(f\"Metric '{metric}' not implemented in fallback\")\n",
    "    \n",
    "    cdist = cdist_numpy\n",
    "\n",
    "# Try to import seaborn with error handling\n",
    "try:\n",
    "    import seaborn as sns\n",
    "    print(\"Seaborn imported successfully\")\n",
    "except Exception as e:\n",
    "    print(f\"Seaborn import failed: {e}\")\n",
    "    print(\"Continuing without seaborn - matplotlib will be used instead\")\n",
    "    sns = None\n",
    "    "
   ]
  },
  {
   "cell_type": "code",
   "execution_count": null,
   "id": "6662d79b",
   "metadata": {},
   "outputs": [],
   "source": [
    "# Init boto session\n",
    "boto3_session = boto3.session.Session()\n",
    "region_name = boto3_session.region_name\n",
    "\n",
    "# Init Bedrock Runtime client\n",
    "bedrock_client = boto3.client(\"bedrock-runtime\", region_name)\n",
    "\n",
    "print(\"AWS Region:\", region_name)"
   ]
  },
  {
   "cell_type": "code",
   "execution_count": null,
   "id": "7f23525a",
   "metadata": {},
   "outputs": [],
   "source": [
    "response = 'Here is a list of 7 items with 3 variants each for an online e-commerce shop, with separate full sentence descriptions:\\n\\n1. T-shirt\\n- A red cotton t-shirt with a crew neck and short sleeves. \\n- A blue cotton t-shirt with a v-neck and short sleeves.\\n- A black polyester t-shirt with a scoop neck and cap sleeves.\\n\\n2. Jeans\\n- Classic blue relaxed fit denim jeans with a mid-rise waist. \\n- Black skinny fit denim jeans with a high-rise waist and ripped details at the knees.  \\n- Stonewash straight leg denim jeans with a standard waist and front pockets.\\n\\n3. Sneakers  \\n- White leather low-top sneakers with an almond toe cap and thick rubber outsole.\\n- Gray mesh high-top sneakers with neon green laces and a padded ankle collar. \\n- Tan suede mid-top sneakers with a round toe and ivory rubber cupsole.  \\n\\n4. Backpack\\n- A purple nylon backpack with padded shoulder straps, front zipper pocket and laptop sleeve.\\n- A gray canvas backpack with brown leather trims, side water bottle pockets and drawstring top closure.  \\n- A black leather backpack with multiple interior pockets, top carry handle and adjustable padded straps.\\n\\n5. Smartwatch\\n- A silver stainless steel smartwatch with heart rate monitor, GPS tracker and sleep analysis.  \\n- A space gray aluminum smartwatch with step counter, phone notifications and calendar syncing. \\n- A rose gold smartwatch with activity tracking, music controls and customizable watch faces.  \\n\\n6. Coffee maker\\n- A 12-cup programmable coffee maker in brushed steel with removable water tank and keep warm plate.  \\n- A compact 5-cup single serve coffee maker in matt black with travel mug auto-dispensing feature.\\n- A retro style stovetop percolator coffee pot in speckled enamel with stay-cool handle and glass knob lid.  \\n\\n7. Yoga mat \\n- A teal 4mm thick yoga mat made of natural tree rubber with moisture-wicking microfiber top.\\n- A purple 6mm thick yoga mat made of eco-friendly TPE material with integrated carrying strap. \\n- A patterned 5mm thick yoga mat made of PVC-free material with towel cover included.'\n",
    "print(response)"
   ]
  },
  {
   "cell_type": "code",
   "execution_count": null,
   "id": "46f2d210",
   "metadata": {},
   "outputs": [],
   "source": [
    "def extract_text(input_string):\n",
    "    pattern = r\"- (.*?)($|\\n)\"\n",
    "    matches = re.findall(pattern, input_string)\n",
    "    extracted_texts = [match[0] for match in matches]\n",
    "    return extracted_texts\n"
   ]
  },
  {
   "cell_type": "code",
   "execution_count": null,
   "id": "8c1a6ad8",
   "metadata": {},
   "outputs": [],
   "source": [
    "product_descriptions = extract_text(response)\n",
    "product_descriptions"
   ]
  },
  {
   "cell_type": "code",
   "execution_count": null,
   "id": "52fe82e9",
   "metadata": {},
   "outputs": [],
   "source": [
    "def titan_generate_image(payload, num_image=2, cfg=10.0, seed=2024):\n",
    "\n",
    "    body = json.dumps(\n",
    "        {\n",
    "            **payload,\n",
    "            \"imageGenerationConfig\": {\n",
    "                \"numberOfImages\": num_image,   # Number of images to be generated. Range: 1 to 5 \n",
    "                \"quality\": \"premium\",          # Quality of generated images. Can be standard or premium.\n",
    "                \"height\": 1024,                # Height of output image(s)\n",
    "                \"width\": 1024,                 # Width of output image(s)\n",
    "                \"cfgScale\": cfg,               # Scale for classifier-free guidance. Range: 1.0 (exclusive) to 10.0\n",
    "                \"seed\": seed                   # The seed to use for re-producibility. Range: 0 to 214783647\n",
    "            }\n",
    "        }\n",
    "    )\n",
    "\n",
    "    response = bedrock_client.invoke_model(\n",
    "        body=body, \n",
    "        modelId=\"amazon.titan-image-generator-v2:0\",\n",
    "        accept=\"application/json\", \n",
    "        contentType=\"application/json\"\n",
    "    )\n",
    "\n",
    "    response_body = json.loads(response.get(\"body\").read())\n",
    "    images = [\n",
    "        Image.open(\n",
    "            BytesIO(base64.b64decode(base64_image))\n",
    "        ) for base64_image in response_body.get(\"images\")\n",
    "    ]\n",
    "\n",
    "    return images"
   ]
  },
  {
   "cell_type": "code",
   "execution_count": null,
   "id": "d6035fe4",
   "metadata": {},
   "outputs": [],
   "source": [
    "embed_dir = \"data/titan-embed\"\n",
    "os.makedirs(embed_dir, exist_ok=True)\n",
    "\n",
    "titles = []\n",
    "for i, prompt in enumerate(product_descriptions, 1):\n",
    "    images = titan_generate_image(\n",
    "        {\n",
    "            \"taskType\": \"TEXT_IMAGE\",\n",
    "            \"textToImageParams\": {\n",
    "                \"text\": prompt, # Required\n",
    "            }\n",
    "        },\n",
    "        num_image=1\n",
    "    )\n",
    "    title = \"_\".join(prompt.split()[:4]).lower()\n",
    "    title = f\"{embed_dir}/{title}.png\"\n",
    "    titles.append(title)\n",
    "    images[0].save(title, format=\"png\")\n",
    "    print(f\"[{i}/{len(product_descriptions)}] Generated: '{title}'..\")"
   ]
  },
  {
   "cell_type": "code",
   "execution_count": null,
   "id": "556dfb0c",
   "metadata": {},
   "outputs": [],
   "source": [
    "def titan_multimodal_embedding(\n",
    "    image_path=None,  # maximum 2048 x 2048 pixels\n",
    "    description=None, # English only and max input tokens 128\n",
    "    dimension=1024,   # 1024 (default), 384, 256\n",
    "    model_id=\"amazon.titan-embed-image-v1\"\n",
    "):\n",
    "    payload_body = {}\n",
    "    embedding_config = {\n",
    "        \"embeddingConfig\": { \n",
    "             \"outputEmbeddingLength\": dimension\n",
    "         }\n",
    "    }\n",
    "\n",
    "    # You can specify either text or image or both\n",
    "    if image_path:\n",
    "        with open(image_path, \"rb\") as image_file:\n",
    "            input_image = base64.b64encode(image_file.read()).decode('utf8')\n",
    "        payload_body[\"inputImage\"] = input_image\n",
    "    if description:\n",
    "        payload_body[\"inputText\"] = description\n",
    "\n",
    "    assert payload_body, \"please provide either an image and/or a text description\"\n",
    "    print(\"\\n\".join(payload_body.keys()))\n",
    "\n",
    "    response = bedrock_client.invoke_model(\n",
    "        body=json.dumps({**payload_body, **embedding_config}), \n",
    "        modelId=model_id,\n",
    "        accept=\"application/json\", \n",
    "        contentType=\"application/json\"\n",
    "    )\n",
    "\n",
    "    return json.loads(response.get(\"body\").read())"
   ]
  },
  {
   "cell_type": "code",
   "execution_count": null,
   "id": "f54c7c53",
   "metadata": {},
   "outputs": [],
   "source": [
    "multimodal_embeddings = []\n",
    "for title in titles:\n",
    "    embedding = titan_multimodal_embedding(image_path=title, dimension=1024)[\"embedding\"]\n",
    "    multimodal_embeddings.append(embedding)\n",
    "    print(f\"generated embedding for {title}\")"
   ]
  },
  {
   "cell_type": "code",
   "execution_count": null,
   "id": "8acfdc13",
   "metadata": {},
   "outputs": [],
   "source": [
    "print(\"Number of generated embeddings for images:\", len(multimodal_embeddings))\n",
    "print(\"Dimension of each image embedding:\", len(multimodal_embeddings[-1]))\n",
    "print(\"Example of generated embedding:\\n\", np.array(multimodal_embeddings[-1]))"
   ]
  },
  {
   "cell_type": "code",
   "execution_count": null,
   "id": "803607e2",
   "metadata": {},
   "outputs": [],
   "source": [
    "def plot_similarity_heatmap(embeddings_a, embeddings_b):\n",
    "    inner_product = np.inner(embeddings_a, embeddings_b)\n",
    "    sns.set(font_scale=1.1)\n",
    "    graph = sns.heatmap(\n",
    "        inner_product,\n",
    "        vmin=np.min(inner_product),\n",
    "        vmax=1,\n",
    "        cmap=\"OrRd\",\n",
    "    )"
   ]
  },
  {
   "cell_type": "code",
   "execution_count": null,
   "id": "013fc251",
   "metadata": {},
   "outputs": [],
   "source": [
    "# Import all necessary packages\n",
    "import matplotlib\n",
    "matplotlib.use('TkAgg')  # Use interactive backend instead of Agg\n",
    "import matplotlib.pyplot as plt\n",
    "import numpy as np\n",
    "\n",
    "# Try to import seaborn with error handling\n",
    "try:\n",
    "    import seaborn as sns\n",
    "    print(\"Seaborn imported successfully\")\n",
    "except Exception as e:\n",
    "    print(f\"Seaborn import failed: {e}\")\n",
    "    print(\"Using matplotlib only for plotting\")\n",
    "    sns = None\n",
    "\n",
    "# Create sample multimodal embeddings data\n",
    "np.random.seed(42)  # For reproducible results\n",
    "multimodal_embeddings = np.random.rand(5, 128)  # 5 samples, 128-dimensional embeddings\n",
    "\n",
    "print(f\"Created sample embeddings with shape: {multimodal_embeddings.shape}\")\n",
    "\n",
    "# Define your function with proper imports\n",
    "def plot_similarity_heatmap(embeddings_a, embeddings_b):\n",
    "    \"\"\"\n",
    "    Plot similarity heatmap between two sets of embeddings\n",
    "    \"\"\"\n",
    "    # Calculate inner product\n",
    "    inner_product = np.inner(embeddings_a, embeddings_b)\n",
    "    \n",
    "    # Set up the plot\n",
    "    plt.figure(figsize=(10, 8))\n",
    "    \n",
    "    if sns is not None:\n",
    "        # Use seaborn if available\n",
    "        sns.set(font_scale=1.1)\n",
    "        graph = sns.heatmap(\n",
    "            inner_product,\n",
    "            vmin=np.min(inner_product),\n",
    "            vmax=1,\n",
    "            cmap=\"OrRd\",\n",
    "        )\n",
    "    else:\n",
    "        # Use matplotlib only if seaborn is not available\n",
    "        graph = plt.imshow(\n",
    "            inner_product,\n",
    "            vmin=np.min(inner_product),\n",
    "            vmax=1,\n",
    "            cmap=\"OrRd\",\n",
    "            aspect='auto'\n",
    "        )\n",
    "        plt.colorbar(graph)\n",
    "    \n",
    "    plt.title(\"Similarity Heatmap\")\n",
    "    \n",
    "    # For Jupyter notebooks, use display instead of show\n",
    "    try:\n",
    "        plt.show()\n",
    "    except:\n",
    "        # If show() fails, try to display in notebook\n",
    "        from IPython.display import display\n",
    "        display(plt.gcf())\n",
    "    \n",
    "    return graph\n",
    "\n",
    "# Run your function\n",
    "plot_similarity_heatmap(multimodal_embeddings, multimodal_embeddings)"
   ]
  },
  {
   "cell_type": "code",
   "execution_count": null,
   "id": "6a19e6d8",
   "metadata": {},
   "outputs": [],
   "source": [
    "def search(query_emb:np.array, indexes:np.array, top_k:int=1):\n",
    "    dist = cdist(query_emb, indexes, metric=\"cosine\")\n",
    "    return dist.argsort(axis=-1)[0,:top_k], np.sort(dist, axis=-1)[:top_k]"
   ]
  },
  {
   "cell_type": "code",
   "execution_count": null,
   "id": "40d937cf",
   "metadata": {},
   "outputs": [],
   "source": [
    "query_prompt = \"suede sneaker\"\n",
    "query_emb = titan_multimodal_embedding(description=query_prompt, dimension=1024)[\"embedding\"]\n",
    "len(query_emb)"
   ]
  }
 ],
 "metadata": {
  "kernelspec": {
   "display_name": "Python (langchain_env)",
   "language": "python",
   "name": "langchain_env"
  },
  "language_info": {
   "codemirror_mode": {
    "name": "ipython",
    "version": 3
   },
   "file_extension": ".py",
   "mimetype": "text/x-python",
   "name": "python",
   "nbconvert_exporter": "python",
   "pygments_lexer": "ipython3",
   "version": "3.12.2"
  }
 },
 "nbformat": 4,
 "nbformat_minor": 5
}
