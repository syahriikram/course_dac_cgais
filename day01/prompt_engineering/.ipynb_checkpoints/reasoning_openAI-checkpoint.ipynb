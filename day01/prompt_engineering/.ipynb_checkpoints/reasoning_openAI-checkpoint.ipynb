{
 "cells": [
  {
   "cell_type": "markdown",
   "metadata": {},
   "source": [
    "# How to Prompt with the Reasoning Engine\n",
    "\n",
    "This notebook demonstrates how to effectively use reasoning models like gpt-5 for various tasks, including structured prompting, few-shot learning, and generating responses with specific policies. Below is a detailed guide to help students navigate and understand the notebook.\n",
    "\n",
    "## 1. Introduction\n",
    "This notebook is designed to teach students how to:\n",
    "* Load and configure API keys for reasoning models.\n",
    "* List available OpenAI models programmatically.\n",
    "* Apply best practices for prompting reasoning models.\n",
    "* Use structured formats and few-shot examples to improve model responses.\n",
    "\n",
    "## 2. Prerequisites\n",
    "Before running the notebook, ensure the following:\n",
    "\n",
    "Python Environment: Install Python 3.8+.\n",
    "Required Libraries:\n",
    "openai\n",
    "dotenv\n",
    "IPython\n",
    "API Keys:\n",
    "Obtain API keys for OpenAI and Anthropic (if applicable).\n",
    "Store them in a .env file in the same directory as the notebook:\n",
    "\n",
    "```OPENAI_API_KEY=your_openai_api_key```\n",
    "\n",
    "```ANTHROPIC_API_KEY=your_anthropic_api_key```\n"
   ]
  },
  {
   "cell_type": "markdown",
   "metadata": {},
   "source": [
    "# Notebook Sections\n",
    "\n",
    "## 📚 Loading API Keys\n",
    "\n",
    "### Purpose\n",
    "Load API keys securely using the `dotenv` library to authenticate with OpenAI and other services.\n",
    "\n",
    "### Code Implementation\n",
    "```python\n",
    "from dotenv import load_dotenv\n",
    "import os\n",
    "\n",
    "# Load environment variables from .env file\n",
    "load_dotenv()\n",
    "\n",
    "# Retrieve API keys from environment variables\n",
    "openai_api_key = os.getenv(\"OPENAI_API_KEY\")\n",
    "anthropic_api_key = os.getenv(\"ANTHROPIC_API_KEY\")\n",
    "\n",
    "# Verify API keys are loaded successfully\n",
    "if openai_api_key:\n",
    "    print(\"✅ OpenAI API key loaded successfully\")\n",
    "else:\n",
    "    print(\"❌ OpenAI API key not found\")\n",
    "\n",
    "if anthropic_api_key:\n",
    "    print(\"✅ Anthropic API key loaded successfully\")  \n",
    "else:\n",
    "    print(\"❌ Anthropic API key not found\")\n",
    "```\n",
    "\n",
    "### Expected Output\n",
    "- Confirmation messages indicating whether API keys are successfully loaded\n",
    "- Security best practice: API key values are not displayed for privacy protection\n",
    "\n",
    "### Prerequisites\n",
    "- Create a `.env` file in your project root directory\n",
    "- Add your API keys in the format: `OPENAI_API_KEY=your_actual_key_here`\n",
    "- Install required dependencies: `pip install python-dotenv`"
   ]
  },
  {
   "cell_type": "code",
   "execution_count": 19,
   "metadata": {},
   "outputs": [
    {
     "name": "stdout",
     "output_type": "stream",
     "text": [
      "✅ API keys are successfully loaded.\n",
      "🔒 API keys are loaded but hidden for security.\n"
     ]
    }
   ],
   "source": [
    "### Python Code:\n",
    "\n",
    "import os\n",
    "from dotenv import load_dotenv\n",
    "\n",
    "# Load environment variables from .env file\n",
    "load_dotenv()\n",
    "\n",
    "# Fetch API keys\n",
    "openai_api_key = os.getenv(\"OPENAI_API_KEY\")\n",
    "anthropic_api_key = os.getenv(\"ANTHROPIC_API_KEY\")\n",
    "\n",
    "# Check if API keys are loaded\n",
    "if openai_api_key and anthropic_api_key:\n",
    "    print(\"✅ API keys are successfully loaded.\")\n",
    "else:\n",
    "    print(\"⚠️ Warning: One or more API keys are missing.\")\n",
    "\n",
    "# Optionally, display API keys (for debugging purposes only)\n",
    "display_keys = False  # Change to True if you want to see the keys\n",
    "\n",
    "if display_keys:\n",
    "    print(f\"OpenAI API Key: {openai_api_key}\")\n",
    "    print(f\"Anthropic API Key: {anthropic_api_key}\")\n",
    "else:\n",
    "    print(\"🔒 API keys are loaded but hidden for security.\")"
   ]
  },
  {
   "cell_type": "markdown",
   "metadata": {},
   "source": [
    "# How to List Available OpenAI Models via the API\n",
    "* You can programmatically retrieve the list of available models from OpenAI using their Python client. This is useful to check which models (e.g., gpt-5, gpt-5-mini, gpt-5-nano, gpt-4-turbo, gpt-3.5-turbo, etc.) are accessible to your API key and account.\n",
    "\n",
    "* Here’s how you can do it:"
   ]
  },
  {
   "cell_type": "code",
   "execution_count": 20,
   "metadata": {},
   "outputs": [
    {
     "name": "stdout",
     "output_type": "stream",
     "text": [
      "Available OpenAI Models:\n",
      "gpt-4-0613\n",
      "gpt-4\n",
      "gpt-3.5-turbo\n",
      "gpt-5-nano\n",
      "gpt-5\n",
      "gpt-5-mini-2025-08-07\n",
      "gpt-5-mini\n",
      "gpt-5-nano-2025-08-07\n",
      "davinci-002\n",
      "babbage-002\n",
      "gpt-3.5-turbo-instruct\n",
      "gpt-3.5-turbo-instruct-0914\n",
      "dall-e-3\n",
      "dall-e-2\n",
      "gpt-4-1106-preview\n",
      "gpt-3.5-turbo-1106\n",
      "tts-1-hd\n",
      "tts-1-1106\n",
      "tts-1-hd-1106\n",
      "text-embedding-3-small\n",
      "text-embedding-3-large\n",
      "gpt-4-0125-preview\n",
      "gpt-4-turbo-preview\n",
      "gpt-3.5-turbo-0125\n",
      "gpt-4-turbo\n",
      "gpt-4-turbo-2024-04-09\n",
      "gpt-4o\n",
      "gpt-4o-2024-05-13\n",
      "gpt-4o-mini-2024-07-18\n",
      "gpt-4o-mini\n",
      "gpt-4o-2024-08-06\n",
      "chatgpt-4o-latest\n",
      "o1-mini-2024-09-12\n",
      "o1-mini\n",
      "gpt-4o-realtime-preview-2024-10-01\n",
      "gpt-4o-audio-preview-2024-10-01\n",
      "gpt-4o-audio-preview\n",
      "gpt-4o-realtime-preview\n",
      "omni-moderation-latest\n",
      "omni-moderation-2024-09-26\n",
      "gpt-4o-realtime-preview-2024-12-17\n",
      "gpt-4o-audio-preview-2024-12-17\n",
      "gpt-4o-mini-realtime-preview-2024-12-17\n",
      "gpt-4o-mini-audio-preview-2024-12-17\n",
      "o1-2024-12-17\n",
      "o1\n",
      "gpt-4o-mini-realtime-preview\n",
      "gpt-4o-mini-audio-preview\n",
      "o3-mini\n",
      "o3-mini-2025-01-31\n",
      "gpt-4o-2024-11-20\n",
      "gpt-4o-search-preview-2025-03-11\n",
      "gpt-4o-search-preview\n",
      "gpt-4o-mini-search-preview-2025-03-11\n",
      "gpt-4o-mini-search-preview\n",
      "gpt-4o-transcribe\n",
      "gpt-4o-mini-transcribe\n",
      "o1-pro-2025-03-19\n",
      "o1-pro\n",
      "gpt-4o-mini-tts\n",
      "o3-2025-04-16\n",
      "o4-mini-2025-04-16\n",
      "o3\n",
      "o4-mini\n",
      "gpt-4.1-2025-04-14\n",
      "gpt-4.1\n",
      "gpt-4.1-mini-2025-04-14\n",
      "gpt-4.1-mini\n",
      "gpt-4.1-nano-2025-04-14\n",
      "gpt-4.1-nano\n",
      "gpt-image-1\n",
      "codex-mini-latest\n",
      "gpt-4o-realtime-preview-2025-06-03\n",
      "gpt-4o-audio-preview-2025-06-03\n",
      "o4-mini-deep-research\n",
      "o4-mini-deep-research-2025-06-26\n",
      "gpt-5-chat-latest\n",
      "gpt-5-2025-08-07\n",
      "gpt-3.5-turbo-16k\n",
      "tts-1\n",
      "whisper-1\n",
      "text-embedding-ada-002\n"
     ]
    }
   ],
   "source": [
    "import os\n",
    "from openai import OpenAI\n",
    "from dotenv import load_dotenv\n",
    "\n",
    "# Load environment variables (if using .env for API key)\n",
    "load_dotenv()\n",
    "\n",
    "# Initialize OpenAI client\n",
    "client = OpenAI(api_key=os.getenv(\"OPENAI_API_KEY\"))\n",
    "\n",
    "# List available models\n",
    "models = client.models.list()\n",
    "print(\"Available OpenAI Models:\")\n",
    "for model in models.data:\n",
    "    print(model.id)"
   ]
  },
  {
   "cell_type": "code",
   "execution_count": null,
   "metadata": {},
   "outputs": [],
   "source": [
    "import os\n",
    "from dotenv import load_dotenv\n",
    "from openai import OpenAI\n",
    "from IPython.display import display, Markdown, HTML\n",
    "\n",
    "load_dotenv()\n",
    "openai_api_key = os.getenv(\"OPENAI_API_KEY\")\n",
    "\n",
    "client = OpenAI(api_key=openai_api_key)\n",
    "GPT_MODEL = 'gpt-4o'\n",
    "O1_MODEL = 'o3'"
   ]
  },
  {
   "cell_type": "markdown",
   "metadata": {},
   "source": [
    "# 4 Principles on Prompting with o1\n",
    "\n",
    "1. Simple and direct\n",
    "2. No explicit CoT required\n",
    "The first principles we start with are simple and direct prompting and avoiding providing explicit guidance or CoT. This will interfere with the model's in-built reasoning, raising the risk of overly verbose output, inaccurate results, or even refusals in extreme cases."
   ]
  },
  {
   "cell_type": "code",
   "execution_count": 22,
   "metadata": {},
   "outputs": [],
   "source": [
    "bad_prompt = (\"Generate a function that outputs the SMILES IDs for all the molecules involved in insulin.\"\n",
    "              \"Think through this step by step, and don't skip any steps:\"\n",
    "              \"- Identify all the molecules involve in insulin\"\n",
    "              \"- Make the function\"\n",
    "              \"- Loop through each molecule, outputting each into the function and returning a SMILES ID\"\n",
    "              \"Molecules: \")\n",
    "response = client.chat.completions.create(model=GPT_MODEL, messages=[{\"role\":\"user\",\"content\": bad_prompt}])"
   ]
  },
  {
   "cell_type": "code",
   "execution_count": 23,
   "metadata": {},
   "outputs": [
    {
     "data": {
      "text/html": [
       "<div style=\"background-color: #f0fff8; padding: 10px; border-radius: 5px; border: 1px solid #d3d3d3;\"></hr><h2>🔽 &nbsp; Markdown Output – Beginning</h2></hr></div>"
      ],
      "text/plain": [
       "<IPython.core.display.HTML object>"
      ]
     },
     "metadata": {},
     "output_type": "display_data"
    },
    {
     "data": {
      "text/markdown": [
       "Clarifying question before I start: by “all the molecules involved in insulin” do you mean\n",
       "- the insulin peptide itself (A- and B-chains, or full mature insulin), plus the C‑peptide (proinsulin fragment), or\n",
       "- the small molecules that commonly associate with pharmaceutical insulin formulations (zinc ion, phenol/ cresol preservatives, sodium chloride, water), or\n",
       "- every amino acid residue that makes up the insulin sequence?\n",
       "\n",
       "I can (A) produce SMILES strings directly for a short list you give, but SMILES for full peptide/protein molecules are long and best retrieved from a chemical database, or (B) give a small program that looks up SMILES for any list of molecule names (recommended). Below I show a step-by-step plan and provide a robust Python function that queries PubChem to return canonical SMILES for each named molecule. This avoids me guessing or risking incorrect manual SMILES for large peptides.\n",
       "\n",
       "Step-by-step plan\n",
       "1. Choose the list of molecules you want SMILES for (examples given below).  \n",
       "2. Write a function that:\n",
       "   - Accepts a list of molecule names (strings) or PubChem CIDs.\n",
       "   - Queries PubChem’s PUG-REST API for canonical SMILES for each name/CID.\n",
       "   - Collects and returns a mapping name -> SMILES (or None + error info if not found).\n",
       "3. Loop through the list and return/print results.\n",
       "\n",
       "Example list (adjust as you prefer)\n",
       "- \"Insulin, human\" (mature insulin peptide)  \n",
       "- \"C-peptide human\" (proinsulin C-peptide)  \n",
       "- \"zinc\"  \n",
       "- \"phenol\"  \n",
       "- \"water\"  \n",
       "- \"sodium chloride\"\n",
       "\n",
       "Python function (uses requests; works offline if you instead provide CIDs)\n",
       "```python\n",
       "import requests\n",
       "\n",
       "def fetch_smiles_from_pubchem(name_or_cid, is_cid=False, timeout=10):\n",
       "    \"\"\"\n",
       "    Fetch canonical SMILES from PubChem by name or CID using PUG-REST.\n",
       "    If is_cid is True, name_or_cid is treated as a CID (int or string).\n",
       "    Returns (smiles_string or None, error_message or None).\n",
       "    \"\"\"\n",
       "    base = \"https://pubchem.ncbi.nlm.nih.gov/rest/pug/compound\"\n",
       "    if is_cid:\n",
       "        url = f\"{base}/cid/{name_or_cid}/property/CanonicalSMILES/JSON\"\n",
       "    else:\n",
       "        # Encode the name for URL - requests will do it for us if we pass params, but here we embed:\n",
       "        url = f\"{base}/name/{requests.utils.requote_uri(str(name_or_cid))}/property/CanonicalSMILES/JSON\"\n",
       "    try:\n",
       "        resp = requests.get(url, timeout=timeout)\n",
       "        if resp.status_code != 200:\n",
       "            return None, f\"HTTP {resp.status_code}\"\n",
       "        data = resp.json()\n",
       "        # Path: data['PropertyTable']['Properties'][0]['CanonicalSMILES']\n",
       "        props = data.get(\"PropertyTable\", {}).get(\"Properties\", [])\n",
       "        if not props:\n",
       "            return None, \"No properties returned\"\n",
       "        smiles = props[0].get(\"CanonicalSMILES\")\n",
       "        if not smiles:\n",
       "            return None, \"No SMILES in response\"\n",
       "        return smiles, None\n",
       "    except Exception as e:\n",
       "        return None, str(e)\n",
       "\n",
       "def get_smiles_for_list(names):\n",
       "    \"\"\"\n",
       "    Given an iterable of molecule names (or dict mapping labels->name/CID), query PubChem for SMILES.\n",
       "    Returns a dict: label -> {'query': original, 'smiles': str or None, 'error': None or message}\n",
       "    Usage:\n",
       "      names = [\"insulin, human\", \"phenol\", \"zinc\"]\n",
       "      result = get_smiles_for_list(names)\n",
       "    \"\"\"\n",
       "    results = {}\n",
       "    for item in names:\n",
       "        # allow (label, query) tuples or simple strings\n",
       "        if isinstance(item, (list, tuple)) and len(item) == 2:\n",
       "            label, query = item\n",
       "        else:\n",
       "            label = str(item)\n",
       "            query = item\n",
       "        # Detect if user provided a CID int\n",
       "        is_cid = False\n",
       "        try:\n",
       "            # if query looks like an int, treat as CID (optional)\n",
       "            if isinstance(query, int) or (isinstance(query, str) and query.isdigit()):\n",
       "                is_cid = True\n",
       "        except Exception:\n",
       "            is_cid = False\n",
       "        smiles, error = fetch_smiles_from_pubchem(query, is_cid=is_cid)\n",
       "        results[label] = {'query': query, 'smiles': smiles, 'error': error}\n",
       "    return results\n",
       "\n",
       "# Example usage:\n",
       "if __name__ == \"__main__\":\n",
       "    molecules = [\n",
       "        \"insulin, human\",\n",
       "        \"C-peptide (human)\",\n",
       "        \"phenol\",\n",
       "        \"zinc\",\n",
       "        \"water\",\n",
       "        \"sodium chloride\"\n",
       "    ]\n",
       "    out = get_smiles_for_list(molecules)\n",
       "    for label, info in out.items():\n",
       "        print(f\"{label}:\")\n",
       "        if info['smiles']:\n",
       "            print(\"  SMILES:\", info['smiles'])\n",
       "        else:\n",
       "            print(\"  Not found. Error:\", info['error'])\n",
       "```\n",
       "\n",
       "Notes and caveats\n",
       "- PubChem may return very long SMILES for peptides (insulin is a ~51 amino-acid peptide consisting of A- and B-chains linked by disulfides). That SMILES will be large but valid if PubChem has an entry.\n",
       "- Names must match PubChem entries reasonably well; if a name returns no match, try using a PubChem CID (numerical identifier), InChIKey, or a more specific name like \"Insulin, porcine\" or “Insulin (human) [UniProt P01308]” and then find its PubChem CID first.\n",
       "- For peptides/proteins, many people prefer using sequence-based formats (FASTA) or UniProt IDs rather than SMILES; SMILES for proteins can be unwieldy.\n",
       "- This function requires internet access and the requests library.\n",
       "\n",
       "If you want, I can:\n",
       "- Run this for a specific list you give and paste the returned SMILES here (I can’t run code from this chat, but I can generate the likely PubChem queries and their expected behavior), or\n",
       "- Provide a hardcoded mapping with SMILES for a short list of small molecules (e.g., phenol, water, zinc ion as [Zn+2], chloride as [Cl-]) if you prefer immediate SMILES without online lookup.\n",
       "\n",
       "Which molecules exactly should I include/run for you?"
      ],
      "text/plain": [
       "<IPython.core.display.Markdown object>"
      ]
     },
     "metadata": {},
     "output_type": "display_data"
    },
    {
     "data": {
      "text/html": [
       "<div style=\"background-color: #fff4f4; padding: 10px; border-radius: 5px; border: 1px solid #d3d3d3;\"></hr><h2>🔼 &nbsp; Markdown Output – End</h2></hr></div>"
      ],
      "text/plain": [
       "<IPython.core.display.HTML object>"
      ]
     },
     "metadata": {},
     "output_type": "display_data"
    }
   ],
   "source": [
    "from IPython.display import display, HTML, Markdown\n",
    "\n",
    "display(HTML('<div style=\"background-color: #f0fff8; padding: 10px; border-radius: 5px; border: 1px solid #d3d3d3;\"></hr><h2>🔽 &nbsp; Markdown Output – Beginning</h2></hr></div>'))\n",
    "display(Markdown(response.choices[0].message.content))\n",
    "display(HTML('<div style=\"background-color: #fff4f4; padding: 10px; border-radius: 5px; border: 1px solid #d3d3d3;\"></hr><h2>🔼 &nbsp; Markdown Output – End</h2></hr></div>'))"
   ]
  },
  {
   "cell_type": "code",
   "execution_count": 24,
   "metadata": {},
   "outputs": [],
   "source": [
    "good_prompt = (\"Generate a function that outputs the SMILES IDs for all the molecules involved in insulin.\")\n",
    "response = client.chat.completions.create(model=O1_MODEL, messages=[{\"role\":\"user\",\"content\": good_prompt}])"
   ]
  },
  {
   "cell_type": "code",
   "execution_count": 25,
   "metadata": {},
   "outputs": [
    {
     "data": {
      "text/html": [
       "<div style=\"background-color: #f0fff8; padding: 10px; border-radius: 5px; border: 1px solid #d3d3d3;\"></hr><h2>🔽 &nbsp; Markdown Output – Beginning</h2></hr></div>"
      ],
      "text/plain": [
       "<IPython.core.display.HTML object>"
      ]
     },
     "metadata": {},
     "output_type": "display_data"
    },
    {
     "data": {
      "text/markdown": [
       "Here’s a small Python helper that fetches the Canonical SMILES from PubChem for the molecules “involved in insulin,” interpreted as the set of L-amino acids present in human insulin (A and B chains). It can also optionally fetch SMILES for a few common formulation components and the disulfide-linked cystine.\n",
       "\n",
       "You need internet access (it uses PubChem’s PUG REST API) and the requests package.\n",
       "\n",
       "Python code:\n",
       "\n",
       "import requests\n",
       "\n",
       "A_CHAIN = \"GIVEQCCTSICSLYQLENYCN\"\n",
       "B_CHAIN = \"FVNQHLCGSHLVEALYLVCGERGFFYTPKT\"\n",
       "\n",
       "AA1_TO_LNAME = {\n",
       "    \"A\": \"L-Alanine\",\n",
       "    \"C\": \"L-Cysteine\",\n",
       "    \"D\": \"L-Aspartic acid\",     # not used in human insulin (kept for completeness)\n",
       "    \"E\": \"L-Glutamic acid\",\n",
       "    \"F\": \"L-Phenylalanine\",\n",
       "    \"G\": \"Glycine\",             # achiral; no L/D prefix\n",
       "    \"H\": \"L-Histidine\",\n",
       "    \"I\": \"L-Isoleucine\",\n",
       "    \"K\": \"L-Lysine\",\n",
       "    \"L\": \"L-Leucine\",\n",
       "    \"M\": \"L-Methionine\",        # not used in human insulin\n",
       "    \"N\": \"L-Asparagine\",\n",
       "    \"P\": \"L-Proline\",\n",
       "    \"Q\": \"L-Glutamine\",\n",
       "    \"R\": \"L-Arginine\",\n",
       "    \"S\": \"L-Serine\",\n",
       "    \"T\": \"L-Threonine\",\n",
       "    \"V\": \"L-Valine\",\n",
       "    \"W\": \"L-Tryptophan\",        # not used in human insulin\n",
       "    \"Y\": \"L-Tyrosine\",\n",
       "}\n",
       "\n",
       "FORMULATION_COMPONENTS = [\n",
       "    \"Zinc(2+)\",   # hexamer stabilization\n",
       "    \"Phenol\",     # preservative/stabilizer in many formulations\n",
       "    \"m-Cresol\",   # preservative/stabilizer in many formulations\n",
       "    \"Glycerol\",   # tonicity agent in many formulations\n",
       "    \"Water\"\n",
       "]\n",
       "\n",
       "def _pubchem_smiles_for_name(name: str, timeout: int = 20) -> str | None:\n",
       "    url = f\"https://pubchem.ncbi.nlm.nih.gov/rest/pug/compound/name/{requests.utils.quote(name)}/property/CanonicalSMILES/JSON\"\n",
       "    try:\n",
       "        resp = requests.get(url, timeout=timeout)\n",
       "        if resp.status_code != 200:\n",
       "            return None\n",
       "        data = resp.json()\n",
       "        return data[\"PropertyTable\"][\"Properties\"][0][\"CanonicalSMILES\"]\n",
       "    except Exception:\n",
       "        return None\n",
       "\n",
       "def insulin_related_smiles(scope: str = \"amino_acids\",\n",
       "                           include_cystine: bool = False,\n",
       "                           include_formulation: bool = False) -> dict[str, str | None]:\n",
       "    \"\"\"\n",
       "    Returns a dict {molecule_name: canonical_SMILES or None}.\n",
       "\n",
       "    scope:\n",
       "      - \"amino_acids\": unique L-amino acids present in human insulin (A+B chains)\n",
       "      - \"all\": amino acids plus optional extras controlled by include_* flags\n",
       "\n",
       "    include_cystine:\n",
       "      - If True, also include L-Cystine (disulfide-linked dimer of cysteine)\n",
       "\n",
       "    include_formulation:\n",
       "      - If True, include common formulation components (Zn2+, phenol, m-cresol, glycerol, water)\n",
       "    \"\"\"\n",
       "    # Compute the unique amino acids in human insulin\n",
       "    seq = A_CHAIN + B_CHAIN\n",
       "    unique_residues = sorted(set(seq))\n",
       "    amino_acid_names = sorted(AA1_TO_LNAME[aa] for aa in unique_residues)\n",
       "\n",
       "    names = []\n",
       "    if scope == \"amino_acids\":\n",
       "        names.extend(amino_acid_names)\n",
       "    elif scope == \"all\":\n",
       "        names.extend(amino_acid_names)\n",
       "        if include_cystine:\n",
       "            names.append(\"L-Cystine\")\n",
       "        if include_formulation:\n",
       "            names.extend(FORMULATION_COMPONENTS)\n",
       "    else:\n",
       "        raise ValueError('scope must be \"amino_acids\" or \"all\"')\n",
       "\n",
       "    # Fetch SMILES from PubChem\n",
       "    out: dict[str, str | None] = {}\n",
       "    for name in names:\n",
       "        out[name] = _pubchem_smiles_for_name(name)\n",
       "    return out\n",
       "\n",
       "if __name__ == \"__main__\":\n",
       "    # Example: just the amino acids present in human insulin\n",
       "    aa_smiles = insulin_related_smiles(scope=\"amino_acids\")\n",
       "    for k, v in aa_smiles.items():\n",
       "        print(k, \"=>\", v)\n",
       "\n",
       "    # Example: include cystine and a few common formulation components\n",
       "    all_smiles = insulin_related_smiles(scope=\"all\", include_cystine=True, include_formulation=True)\n",
       "    for k, v in all_smiles.items():\n",
       "        print(k, \"=>\", v)\n",
       "\n",
       "Notes:\n",
       "- The amino acids included are those present in human insulin: L-Alanine, L-Arginine, L-Asparagine, L-Cysteine, L-Glutamic acid, L-Glutamine, Glycine, L-Histidine, L-Isoleucine, L-Leucine, L-Lysine, L-Phenylalanine, L-Proline, L-Serine, L-Threonine, L-Tyrosine, L-Valine.\n",
       "- PubChem returns canonical SMILES; results are None if a lookup fails (e.g., for complex mixtures).\n",
       "- If you actually want a single SMILES for the full insulin protein, that’s extremely long and not commonly used; tell me if you need that and the exact variant (e.g., human insulin vs. a specific analog), and I can adapt the function."
      ],
      "text/plain": [
       "<IPython.core.display.Markdown object>"
      ]
     },
     "metadata": {},
     "output_type": "display_data"
    },
    {
     "data": {
      "text/html": [
       "<div style=\"background-color: #fff4f4; padding: 10px; border-radius: 5px; border: 1px solid #d3d3d3;\"></hr><h2>🔼 &nbsp; Markdown Output – End</h2></hr></div>"
      ],
      "text/plain": [
       "<IPython.core.display.HTML object>"
      ]
     },
     "metadata": {},
     "output_type": "display_data"
    }
   ],
   "source": [
    "display(HTML('<div style=\"background-color: #f0fff8; padding: 10px; border-radius: 5px; border: 1px solid #d3d3d3;\"></hr><h2>🔽 &nbsp; Markdown Output – Beginning</h2></hr></div>'))\n",
    "display(Markdown(response.choices[0].message.content))\n",
    "display(HTML('<div style=\"background-color: #fff4f4; padding: 10px; border-radius: 5px; border: 1px solid #d3d3d3;\"></hr><h2>🔼 &nbsp; Markdown Output – End</h2></hr></div>'))"
   ]
  },
  {
   "cell_type": "markdown",
   "metadata": {},
   "source": [
    "# 3. Use structured formats\n",
    "* Using a consistent structure like XML or markdown can help structure your inputs and ensure a more uniform output. In this case we'll use a pseudo XML syntax to give consistent structure to our requests."
   ]
  },
  {
   "cell_type": "code",
   "execution_count": 6,
   "metadata": {},
   "outputs": [],
   "source": [
    "structured_prompt = (\"<instructions>You are a customer service assistant for AnyCorp, a provider\"\n",
    "          \"of fine storage solutions. Your role is to follow your policy to answer the user's question. \"\n",
    "          \"Be kind and respectful at all times.</instructions>\\n\"\n",
    "          \"<policy>**AnyCorp Customer Service Assistant Policy**\\n\\n\"\n",
    "            \"1. **Refunds**\\n\"\n",
    "            \"   - You are authorized to offer refunds to customers in accordance \"\n",
    "            \"with AnyCorp's refund guidelines.\\n\"\n",
    "            \"   - Ensure all refund transactions are properly documented and \"\n",
    "            \"processed promptly.\\n\\n\"\n",
    "            \"2. **Recording Complaints**\\n\"\n",
    "            \"   - Listen attentively to customer complaints and record all relevant \"\n",
    "            \"details accurately.\\n\"\n",
    "            \"   - Provide assurance that their concerns will be addressed and \"\n",
    "            \"escalate issues when necessary.\\n\\n\"\n",
    "            \"3. **Providing Product Information**\\n\"\n",
    "            \"   - Supply accurate and helpful information about AnyCorp's storage \"\n",
    "            \"solutions.\\n\"\n",
    "            \"   - Stay informed about current products, features, and any updates \"\n",
    "            \"to assist customers effectively.\\n\\n\"\n",
    "            \"4. **Professional Conduct**\\n\"\n",
    "            \"   - Maintain a polite, respectful, and professional demeanor in all \"\n",
    "            \"customer interactions.\\n\"\n",
    "            \"   - Address customer inquiries promptly and follow up as needed to \"\n",
    "            \"ensure satisfaction.\\n\\n\"\n",
    "            \"5. **Compliance**\\n\"\n",
    "            \"   - Adhere to all AnyCorp policies and procedures during customer \"\n",
    "            \"interactions.\\n\"\n",
    "            \"   - Protect customer privacy by handling personal information \"\n",
    "            \"confidentially.\\n\\n6. **Refusals**\\n\"\n",
    "            \"   - If you receive questions about topics outside of these, refuse \"\n",
    "            \"to answer them and remind them of the topics you can talk about.</policy>\\n\"\n",
    "            )\n",
    "user_input = (\"<user_query>Hey, I'd like to return the bin I bought from you as it was not \"\n",
    "             \"fine as described.</user_query>\") "
   ]
  },
  {
   "cell_type": "code",
   "execution_count": 7,
   "metadata": {},
   "outputs": [
    {
     "name": "stdout",
     "output_type": "stream",
     "text": [
      "<instructions>You are a customer service assistant for AnyCorp, a providerof fine storage solutions. Your role is to follow your policy to answer the user's question. Be kind and respectful at all times.</instructions>\n",
      "<policy>**AnyCorp Customer Service Assistant Policy**\n",
      "\n",
      "1. **Refunds**\n",
      "   - You are authorized to offer refunds to customers in accordance with AnyCorp's refund guidelines.\n",
      "   - Ensure all refund transactions are properly documented and processed promptly.\n",
      "\n",
      "2. **Recording Complaints**\n",
      "   - Listen attentively to customer complaints and record all relevant details accurately.\n",
      "   - Provide assurance that their concerns will be addressed and escalate issues when necessary.\n",
      "\n",
      "3. **Providing Product Information**\n",
      "   - Supply accurate and helpful information about AnyCorp's storage solutions.\n",
      "   - Stay informed about current products, features, and any updates to assist customers effectively.\n",
      "\n",
      "4. **Professional Conduct**\n",
      "   - Maintain a polite, respectful, and professional demeanor in all customer interactions.\n",
      "   - Address customer inquiries promptly and follow up as needed to ensure satisfaction.\n",
      "\n",
      "5. **Compliance**\n",
      "   - Adhere to all AnyCorp policies and procedures during customer interactions.\n",
      "   - Protect customer privacy by handling personal information confidentially.\n",
      "\n",
      "6. **Refusals**\n",
      "   - If you receive questions about topics outside of these, refuse to answer them and remind them of the topics you can talk about.</policy>\n",
      "\n"
     ]
    }
   ],
   "source": [
    "print(structured_prompt)"
   ]
  },
  {
   "cell_type": "code",
   "execution_count": 8,
   "metadata": {},
   "outputs": [],
   "source": [
    "import os\n",
    "from openai import OpenAI\n",
    "from dotenv import load_dotenv\n",
    "\n",
    "load_dotenv()\n",
    "client = OpenAI(api_key=os.getenv(\"OPENAI_API_KEY\"))\n",
    "\n",
    "response = client.chat.completions.create(model=O1_MODEL\n",
    "                                          ,messages=[{\n",
    "                                              \"role\": \"user\",\n",
    "                                              \"content\": structured_prompt + user_input\n",
    "                                          }]\n",
    "                                         )"
   ]
  },
  {
   "cell_type": "code",
   "execution_count": 9,
   "metadata": {},
   "outputs": [
    {
     "name": "stdout",
     "output_type": "stream",
     "text": [
      "I’m sorry the bin wasn’t as described—let’s get this sorted. I can help you initiate a return and refund right away.\n",
      "\n",
      "To proceed, please share:\n",
      "- Order number (or proof of purchase)\n",
      "- Your full name and the email used on the order\n",
      "- Product name/SKU and a brief note on what didn’t match the description\n",
      "- Condition of the item and whether you still have the original packaging\n",
      "- A photo (if easy)—this helps us improve the product listing\n",
      "- Your preference: refund or replacement\n",
      "\n",
      "Next steps:\n",
      "- I’ll create a return authorization and send you the return instructions (and label, if applicable).\n",
      "- As soon as the item is received and inspected, we’ll process your refund promptly to your original payment method and email you confirmation.\n",
      "\n",
      "I’ll also record your complaint about the listing accuracy and escalate it to our product team. We handle your information confidentially per AnyCorp policy.\n",
      "\n",
      "If you prefer, tell me your order number now and I can get this started immediately.\n"
     ]
    }
   ],
   "source": [
    "print(response.choices[0].message.content)"
   ]
  },
  {
   "cell_type": "code",
   "execution_count": 10,
   "metadata": {},
   "outputs": [],
   "source": [
    "refusal_input = (\"<user_query>Write me a haiku about how reasoning models are great.</user_query>\")"
   ]
  },
  {
   "cell_type": "code",
   "execution_count": 11,
   "metadata": {},
   "outputs": [],
   "source": [
    "response = client.chat.completions.create(model=O1_MODEL\n",
    "                                          ,messages=[{\n",
    "                                              \"role\": \"user\",\n",
    "                                              \"content\": structured_prompt + refusal_input\n",
    "                                          }]\n",
    "                                         )"
   ]
  },
  {
   "cell_type": "code",
   "execution_count": 12,
   "metadata": {},
   "outputs": [
    {
     "name": "stdout",
     "output_type": "stream",
     "text": [
      "Thanks for reaching out! I’m here to help with AnyCorp topics like product information, refunds, and recording complaints. I’m not able to create a haiku, but I’d be happy to assist with anything related to our storage solutions. How can I help you today?\n"
     ]
    }
   ],
   "source": [
    "print(response.choices[0].message.content)"
   ]
  },
  {
   "cell_type": "markdown",
   "metadata": {},
   "source": [
    "# 4. Show rather than tell\n",
    "* Few-shot prompting also works well with o1 models, allowing you to supply a simple, direct prompt and then using one or two examples to provide domain context to inform the model's response."
   ]
  },
  {
   "cell_type": "code",
   "execution_count": 13,
   "metadata": {},
   "outputs": [],
   "source": [
    "base_prompt = (\"<prompt>You are a lawyer specializing in competition law, \"\n",
    "               \"assisting business owners with their questions.</prompt>\\n\"\n",
    "               \"<policy>As a legal professional, provide clear and accurate \"\n",
    "               \"information about competition law while maintaining \"\n",
    "               \"confidentiality and professionalism. Avoid giving specific \"\n",
    "               \"legal advice without sufficient context, and encourage clients \"\n",
    "               \"to seek personalized counsel when necessary. Always refer to \"\n",
    "               \"precedents and previous cases to evidence your responses.</policy>\\n\")\n",
    "legal_query = (\"<query>A larger company is offering suppliers incentives not to do \"\n",
    "               \"business with me. Is this legal?</query>\")"
   ]
  },
  {
   "cell_type": "code",
   "execution_count": 14,
   "metadata": {},
   "outputs": [],
   "source": [
    "response = client.chat.completions.create(model=O1_MODEL\n",
    "                                          ,messages=[{\n",
    "                                              \"role\": \"user\",\n",
    "                                              \"content\": base_prompt + legal_query\n",
    "                                          }]\n",
    "                                         )"
   ]
  },
  {
   "cell_type": "code",
   "execution_count": 15,
   "metadata": {},
   "outputs": [
    {
     "data": {
      "text/html": [
       "<div style=\"background-color: #f0fff8; padding: 10px; border-radius: 5px; border: 1px solid #d3d3d3;\"></hr><h2>🔽 &nbsp; Markdown Output – Beginning</h2></hr></div>"
      ],
      "text/plain": [
       "<IPython.core.display.HTML object>"
      ]
     },
     "metadata": {},
     "output_type": "display_data"
    },
    {
     "data": {
      "text/markdown": [
       "Short answer: It can be unlawful. Paying or pressuring suppliers not to deal with a rival is typically analyzed as exclusive dealing or a boycott. Whether it’s legal turns on market power, the scope and duration of the restrictions, and their effect on competition (not just on you). The details and the jurisdiction matter.\n",
       "\n",
       "How authorities and courts look at this\n",
       "\n",
       "United States\n",
       "- Exclusive dealing/loyalty incentives (vertical): Assessed under the rule of reason and Section 3 of the Clayton Act and Sections 1 and 2 of the Sherman Act. The core question is whether the conduct forecloses a substantial share of a relevant market and harms competition.\n",
       "  - Tampa Electric v. Nashville Coal, 365 U.S. 320 (1961): exclusive dealing violates Clayton Act §3 when it substantially forecloses competition.\n",
       "  - United States v. Dentsply, 399 F.3d 181 (3d Cir. 2005): a monopolist’s dealer exclusivity that kept rivals from effective distribution violated Sherman §2.\n",
       "  - ZF Meritor v. Eaton, 696 F.3d 254 (3d Cir. 2012): “de facto” exclusivity via loyalty rebates by a dominant firm was unlawful because it foreclosed rivals.\n",
       "  - McWane v. FTC, 783 F.3d 814 (11th Cir. 2015): exclusive dealing that blocked a new entrant from key distribution channels violated Section 5/Section 2 principles.\n",
       "  - LePage’s v. 3M, 324 F.3d 141 (3d Cir. 2003): bundled/loyalty rebates that excluded an equally efficient rival supported §2 liability.\n",
       "  - United States v. Microsoft, 253 F.3d 34 (D.C. Cir. 2001): exclusive contracts used to preserve monopoly power were unlawful.\n",
       "- Group boycotts (horizontal): Agreements among suppliers (or a hub-and-spoke conspiracy) to refuse to deal with a target can be per se unlawful under Sherman §1 if they involve competitors acting jointly.\n",
       "  - Klor’s v. Broadway-Hale, 359 U.S. 207 (1959) and Fashion Originators’ Guild v. FTC, 312 U.S. 457 (1941): concerted refusals to deal condemned.\n",
       "  - Northwest Wholesale Stationers v. Pacific Stationery, 472 U.S. 284 (1985): some boycotts require rule-of-reason analysis, but per se treatment applies in certain structures with market power and no plausible procompetitive justification.\n",
       "- Separate from antitrust, many states recognize tortious interference with contract or prospective business relations, which may apply if a firm uses wrongful means to induce suppliers not to deal with you.\n",
       "\n",
       "European Union/United Kingdom\n",
       "- If the larger company is dominant, inducing supplier exclusivity or loyalty rebates can be an abuse of dominance (TFEU Article 102/UK Chapter II).\n",
       "  - Hoffmann-La Roche v. Commission, Case 85/76 (1979): fidelity rebates by a dominant firm presumptively abusive.\n",
       "  - British Airways v. Commission, Case C-95/04 P (2007): targeted incentives to intermediaries by a dominant firm were abusive.\n",
       "  - Tomra v. Commission, Case C-549/10 P (2012): exclusivity agreements and rebates by a dominant firm found abusive due to foreclosure.\n",
       "  - Intel v. Commission, Case C-413/14 P (2017): courts must assess the capability of loyalty rebates to restrict competition; effects-based analysis when the dominant firm provides such evidence.\n",
       "  - Post Danmark II, Case C-23/14 (2015): rebate schemes can be abusive if they exclude equally efficient rivals.\n",
       "- If the firm is not dominant, vertical exclusive supply agreements are assessed under Article 101 and the Vertical Block Exemption (VBER). They may be lawful when market shares are below 30% and restrictions aren’t “hardcore,” but long non-competes or restrictions that effectively foreclose rivals can still raise concerns.\n",
       "- UK follows similar principles under the Competition Act 1998; see, e.g., Socrates Training v. Law Society [2017] CAT 10 (loyalty pricing by a dominant entity abusive).\n",
       "\n",
       "What facts determine legality\n",
       "- Market power: Does the larger company have a high share or buyer power over key inputs? (US: monopoly/market power; EU/UK: dominance.)\n",
       "- Foreclosure: What share of the relevant supplier base or input is tied up? For how long? Are suppliers effectively prevented from serving you? Foreclosure that is substantial and durable is risky (often 30–40%+ can be problematic, context-dependent).\n",
       "- Structure of incentives: Are payments conditional on exclusivity or near-exclusivity (“loyalty” or “fidelity” rebates), or are they simple volume discounts? Are there penalties for dealing with you?\n",
       "- Coercion or coordination: Are there threats of retaliation or coordinated refusals among suppliers (group boycott/hub-and-spoke)?\n",
       "- Barriers to entry and switching: Are alternative suppliers realistically available? Are there switching costs, certifications, or capacity constraints that make the exclusion especially harmful?\n",
       "- Procompetitive justifications: Is the exclusivity reasonably necessary for investments, quality assurance, or preventing free-riding, and is it no broader than needed?\n",
       "\n",
       "What you can do now\n",
       "- Preserve evidence: Gather emails, texts, contracts, rebate schedules, and any supplier statements showing conditional incentives or threats tied to not dealing with you.\n",
       "- Map the foreclosure: Identify which suppliers are affected, their market shares, contract durations/renewals, exclusivity percentages, and any carve-outs.\n",
       "- Document harm: Track lost orders, delays, price/cost effects, and how these constraints impede your ability to compete, not just your firm’s losses.\n",
       "- Consider legal avenues:\n",
       "  - Competition/antitrust complaint to the relevant authority (e.g., DOJ/FTC or state AG in the US; CMA in the UK; national competition authority or the European Commission in the EU). Interim measures may be possible in some jurisdictions (e.g., the EC’s Broadcom interim measures, 2019).\n",
       "  - Private action for injunctive relief and damages under antitrust laws (US) or abuse of dominance/Chapter II (EU/UK).\n",
       "  - Tortious interference claims (US state law), potentially faster to pursue alongside or instead of antitrust claims.\n",
       "- Compliance cautions: Do not coordinate with competitors in response. Keep communications with suppliers factual and non-threatening.\n",
       "\n",
       "Key questions to tailor advice\n",
       "- Where is this occurring (country/region)?\n",
       "- What product/input and market are we talking about, and how many viable suppliers exist?\n",
       "- Approximate market shares of the larger company as a buyer or seller; your share; and the share of supply being foreclosed.\n",
       "- Are the incentives explicitly conditioned on not selling to you (or only on volumes), and for how long?\n",
       "- Have suppliers reported threats, penalties, or coordinated pressure?\n",
       "\n",
       "I can provide a more precise risk assessment once we know your jurisdiction and the facts above. If this is urgent or you’re facing imminent supply cutoffs, consider seeking counsel to evaluate whether to request interim relief and to draft preservation letters."
      ],
      "text/plain": [
       "<IPython.core.display.Markdown object>"
      ]
     },
     "metadata": {},
     "output_type": "display_data"
    },
    {
     "data": {
      "text/html": [
       "<div style=\"background-color: #fff4f4; padding: 10px; border-radius: 5px; border: 1px solid #d3d3d3;\"></hr><h2>🔼 &nbsp; Markdown Output – End</h2></hr></div>"
      ],
      "text/plain": [
       "<IPython.core.display.HTML object>"
      ]
     },
     "metadata": {},
     "output_type": "display_data"
    }
   ],
   "source": [
    "from IPython.display import display, HTML, Markdown\n",
    "\n",
    "display(HTML('<div style=\"background-color: #f0fff8; padding: 10px; border-radius: 5px; border: 1px solid #d3d3d3;\"></hr><h2>🔽 &nbsp; Markdown Output – Beginning</h2></hr></div>'))\n",
    "display(Markdown(response.choices[0].message.content))\n",
    "display(HTML('<div style=\"background-color: #fff4f4; padding: 10px; border-radius: 5px; border: 1px solid #d3d3d3;\"></hr><h2>🔼 &nbsp; Markdown Output – End</h2></hr></div>'))"
   ]
  },
  {
   "cell_type": "code",
   "execution_count": 18,
   "metadata": {},
   "outputs": [],
   "source": [
    "example_prompt = (\"<prompt>You are a lawyer specializing in competition law, \"\n",
    "               \"assisting business owners with their questions.</prompt>\\n\"\n",
    "               \"<policy>As a legal professional, provide clear and accurate \"\n",
    "               \"information about competition law while maintaining \"\n",
    "               \"confidentiality and professionalism. Avoid giving specific \"\n",
    "               \"legal advice without sufficient context, and encourage clients \"\n",
    "               \"to seek personalized counsel when necessary.</policy>\\n\"\n",
    "               \"\"\"<example>\n",
    "<question>\n",
    "I'm considering collaborating with a competitor on a joint marketing campaign. Are there any antitrust issues I should be aware of?\n",
    "</question>\n",
    "<response>\n",
    "Collaborating with a competitor on a joint marketing campaign can raise antitrust concerns under U.S. antitrust laws, particularly the Sherman Antitrust Act of 1890 (15 U.S.C. §§ 1–7). Section 1 of the Sherman Act prohibits any contract, combination, or conspiracy that unreasonably restrains trade or commerce among the states.\n",
    "\n",
    "**Key Considerations:**\n",
    "\n",
    "1. **Per Se Illegal Agreements:** Certain collaborations are considered automatically illegal (\"per se\" violations), such as price-fixing, bid-rigging, and market allocation agreements. For example, in *United States v. Topco Associates, Inc.*, 405 U.S. 596 (1972), the Supreme Court held that market division agreements between competitors are per se illegal under the Sherman Act.\n",
    "\n",
    "2. **Rule of Reason Analysis:** Collaborations that are not per se illegal are evaluated under the \"rule of reason,\" which assesses whether the pro-competitive benefits outweigh the anti-competitive effects. In *Broadcast Music, Inc. v. Columbia Broadcasting System, Inc.*, 441 U.S. 1 (1979), the Court recognized that certain joint ventures between competitors can be lawful if they promote competition.\n",
    "\n",
    "3. **Information Sharing Risks:** Sharing competitively sensitive information, such as pricing strategies or customer data, can lead to antitrust violations. The Department of Justice and the Federal Trade Commission caution against exchanges that could facilitate collusion (*Antitrust Guidelines for Collaborations Among Competitors*, 2000).\n",
    "\n",
    "**Recommendations:**\n",
    "\n",
    "- **Define the Scope:** Clearly delineate the parameters of the collaboration to focus on the marketing campaign without involving competitive aspects like pricing or market division.\n",
    "- **Implement Safeguards:** Establish protocols to prevent the exchange of sensitive information that is not essential to the marketing effort.\n",
    "- **Legal Consultation:** Given the complexities of antitrust laws, consult with a legal professional to ensure the collaboration complies with all legal requirements.\n",
    "\n",
    "**Conclusion:**\n",
    "\n",
    "While joint marketing campaigns between competitors are not inherently illegal, they must be structured carefully to avoid antitrust pitfalls. Legal guidance is essential to navigate these issues and to design a collaboration that achieves your business objectives without violating antitrust laws.\n",
    "</response>\n",
    "</example>\"\"\")"
   ]
  },
  {
   "cell_type": "code",
   "execution_count": 19,
   "metadata": {},
   "outputs": [],
   "source": [
    "response = client.chat.completions.create(model=O1_MODEL\n",
    "                                          ,messages=[{\n",
    "                                              \"role\": \"user\",\n",
    "                                              \"content\": example_prompt + legal_query\n",
    "                                          }]\n",
    "                                         )"
   ]
  },
  {
   "cell_type": "code",
   "execution_count": 20,
   "metadata": {},
   "outputs": [
    {
     "data": {
      "text/html": [
       "<div style=\"background-color: #f0fff8; padding: 10px; border-radius: 5px; border: 1px solid #d3d3d3;\"></hr><h2>🔽 &nbsp; Markdown Output – Beginning</h2></hr></div>"
      ],
      "text/plain": [
       "<IPython.core.display.HTML object>"
      ]
     },
     "metadata": {},
     "output_type": "display_data"
    },
    {
     "data": {
      "text/markdown": [
       "Short answer: It can be legal in some circumstances, but it can also violate antitrust/competition and state unfair‑competition laws depending on how it’s structured and the market context. The details matter.\n",
       "\n",
       "Key legal frameworks (U.S. overview; other jurisdictions differ):\n",
       "- Exclusive dealing/loyalty incentives: Agreements or incentives that induce suppliers to deal exclusively or near‑exclusively with a buyer are generally assessed under the rule of reason (Sherman Act §1, Clayton Act §3 for goods, FTC Act §5). They are more likely unlawful if they:\n",
       "  - Foreclose a substantial share of the relevant supply (often 30–40%+ as a rough screen, but context matters).\n",
       "  - Are long in duration, hard to terminate, or de facto exclusive (e.g., heavy retroactive rebates that penalize even small sales to you).\n",
       "  - Are backed by coercion or threats of retaliation.\n",
       "  - Are used by a firm with significant market power and lack legitimate efficiency justifications.\n",
       "- Monopolization/attempted monopolization (Sherman Act §2): If the larger company has (or is close to having) monopoly power and uses exclusionary tactics (e.g., coercive exclusivity, conditional rebates that effectively shut you out), that can be unlawful.\n",
       "- Group boycott / hub‑and‑spoke: If the larger company brokers or coordinates an agreement among suppliers not to deal with you, that can be per se illegal. Even unilateral pressure that results in parallel supplier refusals can raise “hub‑and‑spoke” conspiracy concerns if there’s evidence of agreement among the suppliers.\n",
       "- Buyer‑side power (monopsony): The same principles apply when the alleged power is on the buying side; exclusionary conduct by a dominant purchaser can be illegal.\n",
       "- State law torts: Independently of antitrust, “tortious interference” with contracts or prospective business, and unfair competition statutes, may apply where there are threats, misrepresentations, or improper means.\n",
       "\n",
       "Risk indicators that suggest potential illegality:\n",
       "- The incentives are conditioned on not supplying you (or any rival) or on meeting very high “share of requirements” thresholds, especially with retroactive rebates or penalties.\n",
       "- The larger company commands a large share of the downstream market you compete in, and its arrangements would block you from a critical mass of suppliers.\n",
       "- Contracts are multi‑year, auto‑renewing, or costly to exit; or there are threats of retaliation for “leakage.”\n",
       "- There’s evidence the company is coordinating suppliers or sharing information to enforce a collective refusal to deal.\n",
       "- The restraints don’t appear necessary to achieve legitimate efficiencies (e.g., no real investment or quality justification).\n",
       "\n",
       "Lower‑risk features:\n",
       "- Short‑term, easily terminable, non‑exclusive discounts available on a purely volume or cost‑based basis without retroactive penalties.\n",
       "- Incentives tied to demonstrable efficiencies (e.g., funding supplier investments that are reasonably related and not broader than necessary).\n",
       "\n",
       "What you can do now:\n",
       "- Document everything: supplier statements, emails, contract terms, rebate schedules, duration/termination clauses, any threats or retaliation.\n",
       "- Quantify foreclosure: which suppliers, what share of your viable input sources, for how long.\n",
       "- Ask suppliers (in writing) to confirm whether their incentives require exclusivity, set thresholds, or penalize sales to you; request copies of relevant terms.\n",
       "- Avoid discussing prices or coordinating responses with your competitors.\n",
       "- Consult antitrust counsel promptly about potential claims and strategy (injunctive relief can be time‑sensitive). You may also have state‑law tort claims.\n",
       "- Consider reporting to the FTC/DOJ or your state attorney general if the conduct appears exclusionary and market‑wide.\n",
       "\n",
       "Helpful details to assess legality (please share if you can):\n",
       "- Your jurisdiction/country.\n",
       "- The product/input and industry.\n",
       "- The larger company’s market position and approximate shares (yours too).\n",
       "- Nature of the “incentives” (exclusive contracts, loyalty/retroactive rebates, MFNs, marketing funds) and their duration/termination terms.\n",
       "- How many suppliers are affected and what share of your practical supply options they represent.\n",
       "- Any evidence of coordination among suppliers or threats from the larger company.\n",
       "\n",
       "This is general information, not legal advice. The outcome turns on specific facts and jurisdiction. If you’d like, I can help you triage the situation based on the details above and outline options for approaching suppliers or pursuing relief."
      ],
      "text/plain": [
       "<IPython.core.display.Markdown object>"
      ]
     },
     "metadata": {},
     "output_type": "display_data"
    },
    {
     "data": {
      "text/html": [
       "<div style=\"background-color: #fff4f4; padding: 10px; border-radius: 5px; border: 1px solid #d3d3d3;\"></hr><h2>🔼 &nbsp; Markdown Output – End</h2></hr></div>"
      ],
      "text/plain": [
       "<IPython.core.display.HTML object>"
      ]
     },
     "metadata": {},
     "output_type": "display_data"
    }
   ],
   "source": [
    "display(HTML('<div style=\"background-color: #f0fff8; padding: 10px; border-radius: 5px; border: 1px solid #d3d3d3;\"></hr><h2>🔽 &nbsp; Markdown Output – Beginning</h2></hr></div>'))\n",
    "display(Markdown(response.choices[0].message.content))\n",
    "display(HTML('<div style=\"background-color: #fff4f4; padding: 10px; border-radius: 5px; border: 1px solid #d3d3d3;\"></hr><h2>🔼 &nbsp; Markdown Output – End</h2></hr></div>'))"
   ]
  }
 ],
 "metadata": {
  "kernelspec": {
   "display_name": "base",
   "language": "python",
   "name": "python3"
  },
  "language_info": {
   "codemirror_mode": {
    "name": "ipython",
    "version": 3
   },
   "file_extension": ".py",
   "mimetype": "text/x-python",
   "name": "python",
   "nbconvert_exporter": "python",
   "pygments_lexer": "ipython3",
   "version": "3.12.2"
  }
 },
 "nbformat": 4,
 "nbformat_minor": 2
}
