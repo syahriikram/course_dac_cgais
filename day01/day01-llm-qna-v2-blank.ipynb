{
 "cells": [
  {
   "cell_type": "markdown",
   "metadata": {},
   "source": [
    "# Workshop 1 - Question and Answers\n",
    "In this workshop, you will learning how to write prompts and feed them into LLMs. You\n",
    "will also be learning how to use different prompt techniques to improve the response\n",
    "from the LLM.\n",
    "\n",
    "## Loading and Explorng the Dataset\n",
    "The workshop will be using [`facebook/ExploreToM`](https://huggingface.co/datasets/facebook/ExploreToM) dataset from [HuggingFace](https://huggingface.co)."
   ]
  },
  {
   "cell_type": "code",
   "execution_count": 1,
   "metadata": {},
   "outputs": [],
   "source": [
    "# TODO: Load the following libraries: datasets\n",
    "from datasets import load_dataset"
   ]
  },
  {
   "cell_type": "code",
   "execution_count": 2,
   "metadata": {},
   "outputs": [],
   "source": [
    "# Dataset name\n",
    "dataset_name = \"facebook/ExploreToM\"\n",
    "\n",
    "# TODO: load dataset\n",
    "ds = load_dataset(dataset_name)"
   ]
  },
  {
   "cell_type": "code",
   "execution_count": 3,
   "metadata": {},
   "outputs": [
    {
     "name": "stdout",
     "output_type": "stream",
     "text": [
      "{'train': (13309, 18)}\n",
      "dict_keys(['train'])\n",
      "{'story_structure': Value('string'), 'infilled_story': Value('string'), 'question': Value('string'), 'expected_answer': Value('string'), 'qprop=params': Value('string'), 'qprop=nth_order': Value('int64'), 'qprop=non_unique_mental_state': Value('bool'), 'sprop=is_false_belief_story_1st': Value('bool'), 'sprop=is_false_belief_story_1st_and_2nd': Value('bool'), 'sprop=story_accuracy_1st_raw': Value('float64'), 'sprop=story_accuracy_1st_infilled': Value('float64'), 'sprop=global_idx': Value('int64'), 'param=story_type': Value('string'), 'param=num_stories_total': Value('int64'), 'param=max_sentences': Value('int64'), 'param=num_people': Value('int64'), 'param=num_moves': Value('int64'), 'param=num_rooms': Value('int64')}\n",
      "key = story_structure, value = Leslie entered the main tent. Leslie left the main tent. Isabella entered the storage trailer. Isabella moved the stuffed rabbit to the wooden chest, which is also located in the storage trailer. Leslie entered the main tent. Isabella moved the stuffed rabbit to the main tent, leaving the wooden chest in its original location. Isabella told out loud about the festival marketing strategies. Isabella told privately to Colton that Leslie is in the main tent. While this action was happening, Leslie witnessed this action in secret (and only this action).\n",
      "key = infilled_story, value = The warm glow of string lights illuminated the vibrant colors of the festival grounds, casting a lively atmosphere over rows of booths and attractions. A faint scent of popcorn and sugar wafted through the air, mingling with the distant sounds of laughter and music, as the night's festivities had just begun to unfold. Leslie slipped unnoticed into the main tent, the sounds of the festival outside momentarily muffled by the canvas walls. Leslie slid past the closing canvas flaps, merging with the lively crowd outside, their bright ringmaster attire momentarily camouflaged amidst swirling festivalgoers. The storage trailer stood quietly behind the booths, its door slowly creaking open to admit Isabella. As she entered, the sounds of laughter and music grew duller, replaced by the musty scent of stored supplies and the faint rustle of fabric. As Isabella rearranged the storage trailer's contents, the stuffed rabbit found a new resting place at the bottom of the old wooden chest, its glassy eyes glinting faintly in the dim light. Leslie was swallowed by the main tent's dimly lit interior, briefly allowing the boisterous atmosphere to conceal their movements, before reemerging into the night's festivities outside, ringmaster attire now blending seamlessly into the swirling crowds. As Isabella transferred the stuffed rabbit to the main tent, the lively chatter and song of the festival's attendees momentarily drowned out the sound of her footsteps, leaving the storage trailer - and its wooden chest - quietly behind. The warmth of her voice mingled with the sound of laughter and music, carrying Isabella's thoughts on the festival's marketing prowess out across the grounds, a wafting trail of insight left in her wake. Isabella mouthed a message to Colton, who lingered at the edge of the crowd, her eyes locking briefly onto his as she mouthed, 'He's back in the main tent,' and Colton's eyes flickered, acknowledging the secret message before he left to reposition himself in the rear of the main tent.\n",
      "key = question, value = What does Isabella think about Colton's belief on festival marketing strategies? (knows about it / does not know about it)\n",
      "key = expected_answer, value = does not know about it\n",
      "key = qprop=params, value = (['Isabella', 'Colton'], 'festival marketing strategies', '<knowledge>-True')\n",
      "key = qprop=nth_order, value = 2\n",
      "key = qprop=non_unique_mental_state, value = True\n",
      "key = sprop=is_false_belief_story_1st, value = True\n",
      "key = sprop=is_false_belief_story_1st_and_2nd, value = True\n",
      "key = sprop=story_accuracy_1st_raw, value = 0.666666666666667\n",
      "key = sprop=story_accuracy_1st_infilled, value = 0.666666666666667\n",
      "key = sprop=global_idx, value = 7\n",
      "key = param=story_type, value = all+asymmetric\n",
      "key = param=num_stories_total, value = 10\n",
      "key = param=max_sentences, value = 15\n",
      "key = param=num_people, value = 3\n",
      "key = param=num_moves, value = 3\n",
      "key = param=num_rooms, value = 2\n"
     ]
    }
   ],
   "source": [
    "\n",
    "# TODO: number of rows in the dataset\n",
    "print(ds.shape)\n",
    "\n",
    "# TODO: Keys in the dataset\n",
    "print(ds.keys())\n",
    "\n",
    "# TODO: Feature names\n",
    "print(ds['train'].features)\n",
    "\n",
    "# TODO: Display a single row\n",
    "idx = 100\n",
    "for k, v in ds['train'][idx].items():\n",
    "   print(f'key = {k}, value = {v}')"
   ]
  },
  {
   "cell_type": "code",
   "execution_count": 4,
   "metadata": {},
   "outputs": [],
   "source": [
    "# TODO: import pipeline\n",
    "from transformers import pipeline"
   ]
  },
  {
   "cell_type": "markdown",
   "metadata": {},
   "source": [
    "## `pipeline`\n",
    "[`pipeline`](https://huggingface.co/docs/transformers/en/main_classes/pipelines) is an easy to use API to perform inferencing. It provides a wrapper for task-specific pipelines and abstracts most of the complexity by allowing you to focus on the model and the task. \n",
    "\n",
    "You can use `pipeline` to perform summarisation, image classification, audio generation, etc. You can find an exhaustive list of `pipeline` task [here](https://huggingface.co/docs/transformers/en/main_classes/pipelines#transformers.pipeline.task)."
   ]
  },
  {
   "cell_type": "code",
   "execution_count": 5,
   "metadata": {},
   "outputs": [
    {
     "data": {
      "application/vnd.jupyter.widget-view+json": {
       "model_id": "3d3f1558baeb46738c3d120b5cf40206",
       "version_major": 2,
       "version_minor": 0
      },
      "text/plain": [
       "Fetching 0 files: 0it [00:00, ?it/s]"
      ]
     },
     "metadata": {},
     "output_type": "display_data"
    },
    {
     "data": {
      "application/vnd.jupyter.widget-view+json": {
       "model_id": "d669bf7c527743c8bc3c8e442d9409a5",
       "version_major": 2,
       "version_minor": 0
      },
      "text/plain": [
       "Fetching 1 files:   0%|          | 0/1 [00:00<?, ?it/s]"
      ]
     },
     "metadata": {},
     "output_type": "display_data"
    },
    {
     "data": {
      "application/vnd.jupyter.widget-view+json": {
       "model_id": "0e1a193395e64db08f1cbe02b6476972",
       "version_major": 2,
       "version_minor": 0
      },
      "text/plain": [
       "Fetching 0 files: 0it [00:00, ?it/s]"
      ]
     },
     "metadata": {},
     "output_type": "display_data"
    },
    {
     "name": "stderr",
     "output_type": "stream",
     "text": [
      "Device set to use cpu\n"
     ]
    }
   ],
   "source": [
    "# TODO: Summarise the text with the pipeline's default model\n",
    "qna = pipeline('question-answering', model=\"distilbert/distilbert-base-cased-distilled-squad\")\n"
   ]
  },
  {
   "cell_type": "code",
   "execution_count": 8,
   "metadata": {},
   "outputs": [
    {
     "name": "stdout",
     "output_type": "stream",
     "text": [
      "The bustling theater was a hive of activity on this chilly autumn evening, its worn wooden floors and faded velvet curtains a testament to years of countless performances. The dimly lit green room, tucked away backstage, was a cozy refuge from the chaos, its plush armchairs and ornate wooden chest offering a warm respite for those who needed it. Dylan slipped away from the crowd, disappearing behind a tattered curtain as he made his way to a more secluded space. The soft glow of a floor lamp in the green room enveloped him, providing a sense of tranquility amidst the pre-show chaos. Dylan carefully placed the pocket watch in the ornate wooden chest, hidden from view, and Clayton caught a glimpse of this sneaky maneuver from his secret vantage point. Clayton's eyes narrowed as he pushed open the creaky door and stepped into the green room, the sudden movement making the softly lit space seem almost anticipatory. In a swift motion, Dylan delved into the leather satchel, repositioning its contents to accommodate the pocket watch, which now nestled among its weathered confines in the green room.\n",
      "In which container was the pocket watch at the beginning?\n",
      "------------------------------\n",
      "{'score': 0.26706773042678833, 'start': 633, 'end': 656, 'answer': 'the ornate wooden chest'}\n",
      "wooden chest\n"
     ]
    }
   ],
   "source": [
    "# Prepare a question\n",
    "idx = 10\n",
    "question = ds['train'][idx]['question']\n",
    "story = ds['train'][idx]['story_structure']\n",
    "story = ds['train'][idx]['infilled_story']\n",
    "expected_ans = ds['train'][idx]['expected_answer']\n",
    "\n",
    "# query the model\n",
    "predicted_ans = qna(question=question, context=story)\n",
    "\n",
    "print(story)\n",
    "print(question)\n",
    "print('------------------------------')\n",
    "print(predicted_ans)\n",
    "print(expected_ans)"
   ]
  },
  {
   "cell_type": "markdown",
   "metadata": {},
   "source": [
    "## Manual Inference - Question and Answer\n",
    "In this section, we will look at what `pipeline` does under the hood to perform its inference. This will give us a better understanding of the major steps involved."
   ]
  },
  {
   "cell_type": "code",
   "execution_count": 9,
   "metadata": {},
   "outputs": [],
   "source": [
    "# TODO: load tokenizer\n",
    "from transformers import AutoTokenizer"
   ]
  },
  {
   "cell_type": "markdown",
   "metadata": {},
   "source": [
    "## DistilBERT base cased distilled SQuAD\n",
    "DistilBERT is a small, fast, cheap and light Transformer model trained by distilling BERT base. More details [here](https://huggingface.co/distilbert/distilbert-base-cased-distilled-squad)."
   ]
  },
  {
   "cell_type": "code",
   "execution_count": 10,
   "metadata": {},
   "outputs": [],
   "source": [
    "model_name = \"distilbert/distilbert-base-cased-distilled-squad\""
   ]
  },
  {
   "cell_type": "code",
   "execution_count": 11,
   "metadata": {},
   "outputs": [],
   "source": [
    "# TODO: Create a tokenizer\n",
    "tokenizer = AutoTokenizer.from_pretrained(model_name)\n"
   ]
  },
  {
   "cell_type": "code",
   "execution_count": 12,
   "metadata": {},
   "outputs": [
    {
     "name": "stdout",
     "output_type": "stream",
     "text": [
      "{'input_ids': tensor([[  101,   157, 14640,  4103,  1136,  2561,   170,  3395,  1107,  1103,\n",
      "          1176,  1757,  1104,  1103,  1769,  1713,   102]]), 'attention_mask': tensor([[1, 1, 1, 1, 1, 1, 1, 1, 1, 1, 1, 1, 1, 1, 1, 1, 1]])}\n"
     ]
    }
   ],
   "source": [
    "# TODO: Encode text\n",
    "text = 'Thou shall not create a machine in the likeness of the human mind'\n",
    "\n",
    "# encode the text\n",
    "enc_text = tokenizer(text, return_tensors='pt')\n",
    "\n",
    "# print the tokenized text\n",
    "print(enc_text)\n"
   ]
  },
  {
   "cell_type": "code",
   "execution_count": 13,
   "metadata": {},
   "outputs": [
    {
     "name": "stdout",
     "output_type": "stream",
     "text": [
      "torch.Size([17])\n"
     ]
    }
   ],
   "source": [
    "print(enc_text.input_ids[0].shape)"
   ]
  },
  {
   "cell_type": "code",
   "execution_count": null,
   "metadata": {},
   "outputs": [],
   "source": [
    "for i in enc_text.input_ids[0]:\n",
    "   print(i, tokenizer.decode(i))"
   ]
  },
  {
   "cell_type": "code",
   "execution_count": null,
   "metadata": {},
   "outputs": [
    {
     "name": "stdout",
     "output_type": "stream",
     "text": [
      "{'input_ids': tensor([[  101,  2562,  1602, 15430, 24752,  1116,  1602,  1892,   102,     0,\n",
      "             0,     0,     0,     0,     0,     0,     0,     0],\n",
      "        [  101,  1706,  1840,   170, 15826,  1113,  1242,  4454,   117,  1128,\n",
      "          1169,  1840,  1122,  1114,   170,  2190,   119,   102],\n",
      "        [  101, 25456,  9066, 15306, 19016,  6475,  1111, 16949,   102,     0,\n",
      "             0,     0,     0,     0,     0,     0,     0,     0]]), 'attention_mask': tensor([[1, 1, 1, 1, 1, 1, 1, 1, 1, 0, 0, 0, 0, 0, 0, 0, 0, 0],\n",
      "        [1, 1, 1, 1, 1, 1, 1, 1, 1, 1, 1, 1, 1, 1, 1, 1, 1, 1],\n",
      "        [1, 1, 1, 1, 1, 1, 1, 1, 1, 0, 0, 0, 0, 0, 0, 0, 0, 0]])}\n"
     ]
    }
   ],
   "source": [
    "# TODO: Encoding multiple texts\n",
    "message = [\n",
    "   \"Big black bug bleeds black blood\",\n",
    "   \"To call a pipeline on many items, you can call it with a list.\",\n",
    "   \"Custom Generative AI Systems for Enterprises\"\n",
    "]\n",
    "\n",
    "enc_message = tokenizer(message, return_tensors='pt', padding=True)\n",
    "\n",
    "print(enc_message)"
   ]
  },
  {
   "cell_type": "code",
   "execution_count": 22,
   "metadata": {},
   "outputs": [
    {
     "name": "stdout",
     "output_type": "stream",
     "text": [
      "Big black bug bleeds black blood\n"
     ]
    }
   ],
   "source": [
    "# TODO: Decode text\n",
    "dec_message = tokenizer.decode(enc_message.input_ids[0], skip_special_tokens=True)\n",
    "\n",
    "print(dec_message)"
   ]
  },
  {
   "cell_type": "markdown",
   "metadata": {},
   "source": [
    "## Working with LLMs\n",
    "Create and instance of the Large Language Model (LLM). We will then create a simple\n",
    "prompt, tokenize the prompt and feed the tokenized prompt to the LLM. The response\n",
    "from the LLM will be decoded to human friendly text."
   ]
  },
  {
   "cell_type": "code",
   "execution_count": 19,
   "metadata": {},
   "outputs": [],
   "source": [
    "# TODO: Load libraries\n",
    "from transformers import AutoModelForQuestionAnswering"
   ]
  },
  {
   "cell_type": "code",
   "execution_count": 20,
   "metadata": {},
   "outputs": [],
   "source": [
    "# TODO: Load question answer model\n",
    "model = AutoModelForQuestionAnswering.from_pretrained(model_name)\n"
   ]
  },
  {
   "cell_type": "code",
   "execution_count": 23,
   "metadata": {},
   "outputs": [],
   "source": [
    "# TODO: Encode context and question\n",
    "idx = 50\n",
    "question = ds['train'][idx]['question']\n",
    "story = ds['train'][idx]['story_structure']\n",
    "#story = ds['train'][idx]['infilled_story']\n",
    "expected_ans = ds['train'][idx]['expected_answer']\n",
    "\n",
    "#TODO: tokenize the question and story\n"
   ]
  },
  {
   "cell_type": "code",
   "execution_count": 24,
   "metadata": {},
   "outputs": [
    {
     "name": "stdout",
     "output_type": "stream",
     "text": [
      "{'input_ids': tensor([[  101,  1130,  1134,  1395,  1674, 23929,  8495,  1389,  1341,  1115,\n",
      "         20587,  1209,  3403,  1111,  1103,  5444,   136,   102, 23929,  8495,\n",
      "          1389,  2242,  1103,  1707,  1395,   119, 23929,  8495,  1389,  1427,\n",
      "          1103,  5444,  1106,  1103, 22823,  2884,   117,  1134,  1110,  1145,\n",
      "          1388,  1107,  1103,  1707,  1395,   119, 23929,  8495,  1389,  1427,\n",
      "          1103,  5444,  1106,  1103,  5439,  2068, 20492,   117,  1134,  1110,\n",
      "          1145,  1388,  1107,  1103,  1707,  1395,   119,  1799,  1142,  2168,\n",
      "          1108,  5664,   117,  6010,  9491,  1142,  2168,  1107,  3318,   113,\n",
      "          1105,  1178,  1142,  2168,   114,   119,  6010,  2242,  1103,  1707,\n",
      "          1395,   119, 20587,  2242,  1103,  1707,  1395,   119,  6010,  1427,\n",
      "          1103,  5444,  1106,  1103,  5828,  5092,  9055,   117,  1134,  1110,\n",
      "          1145,  1388,  1107,  1103,  1707,  1395,   119,   102]]), 'attention_mask': tensor([[1, 1, 1, 1, 1, 1, 1, 1, 1, 1, 1, 1, 1, 1, 1, 1, 1, 1, 1, 1, 1, 1, 1, 1,\n",
      "         1, 1, 1, 1, 1, 1, 1, 1, 1, 1, 1, 1, 1, 1, 1, 1, 1, 1, 1, 1, 1, 1, 1, 1,\n",
      "         1, 1, 1, 1, 1, 1, 1, 1, 1, 1, 1, 1, 1, 1, 1, 1, 1, 1, 1, 1, 1, 1, 1, 1,\n",
      "         1, 1, 1, 1, 1, 1, 1, 1, 1, 1, 1, 1, 1, 1, 1, 1, 1, 1, 1, 1, 1, 1, 1, 1,\n",
      "         1, 1, 1, 1, 1, 1, 1, 1, 1, 1, 1, 1, 1, 1, 1, 1, 1, 1, 1, 1, 1, 1]])}\n"
     ]
    }
   ],
   "source": [
    "# TODO: Tokenize the inputs\n",
    "inputs = tokenizer(question, story, return_tensors='pt', padding=True)\n",
    "\n",
    "print(inputs)\n"
   ]
  },
  {
   "cell_type": "code",
   "execution_count": 25,
   "metadata": {},
   "outputs": [
    {
     "name": "stdout",
     "output_type": "stream",
     "text": [
      "QuestionAnsweringModelOutput(loss=None, start_logits=tensor([[ -5.7032,  -7.5931,  -7.8459,  -9.3639, -10.1221,  -8.7499,  -9.9979,\n",
      "         -10.7957,  -9.2579,  -9.9846,  -9.4543,  -9.9322,  -8.5640,  -9.3167,\n",
      "          -9.1187,  -9.1940,  -7.6195,  -7.1851,  -3.6156,  -8.7231,  -9.2405,\n",
      "          -4.0915,   2.3793,   2.5612,  -5.5461,  -6.3208,  -2.5113,  -8.1883,\n",
      "          -8.5451,  -4.6734,  -5.9906,  -5.5206,  -5.8241,   0.0854,   0.5292,\n",
      "          -4.8312,  -7.8227,  -7.5964,  -8.1513,  -7.8242,  -6.0995,  -1.7951,\n",
      "           1.1506,   1.5036,  -5.9132,  -6.2261,  -2.8108,  -8.6988,  -9.0689,\n",
      "          -5.2408,  -6.5220,  -6.3959,  -7.1263,  -1.7462,  -1.0422,  -4.2214,\n",
      "          -6.6802,  -8.8318,  -8.5046,  -8.9208,  -8.3934,  -7.5931,  -3.1230,\n",
      "          -0.1627,   0.3004,  -6.4978,  -7.7543,  -7.3457,  -7.8658,  -8.8552,\n",
      "         -10.3558,  -9.7628,  -9.0849,  -1.3072,  -8.3199,  -7.7853,  -9.4434,\n",
      "          -9.0954,  -7.9018,  -9.0172, -10.4548,  -9.4144,  -8.7126, -10.0420,\n",
      "          -9.7801,  -6.6505,  -2.0016,  -6.1212,  -1.4844,  -0.3140,  -6.8563,\n",
      "          -6.2270,  -3.0286,  -4.2665,   0.2505,   0.6173,  -6.6736,  -6.5245,\n",
      "          -2.6933,  -6.2468,  -7.2702,  -6.8989,  -8.4948,  -4.2150,  -3.6311,\n",
      "          -5.8427,  -8.0612,  -9.5159,  -9.1649,  -9.5910,  -9.0446,  -8.5230,\n",
      "          -4.7201,  -1.2249,  -0.5665,  -7.0205,  -8.6974,  -7.1851]],\n",
      "       grad_fn=<CloneBackward0>), end_logits=tensor([[ -4.4028,  -9.0052,  -8.1077,  -7.6909,  -9.9949, -11.0844, -10.0467,\n",
      "          -9.6467,  -9.9514, -10.8958, -10.0283, -10.7977,  -8.9833,  -9.0666,\n",
      "         -10.1050,  -7.7685,  -7.9782,  -7.5082,  -8.9918,  -8.2969,  -6.5896,\n",
      "          -8.0137,  -5.3425,   0.2324,   3.3924,  -1.5436,  -8.6950,  -8.2337,\n",
      "          -6.4983,  -7.5943,  -8.5495,  -5.1817,  -7.6463,  -6.9598,  -2.9212,\n",
      "           1.1992,  -1.6939,  -6.3639,  -7.8739,  -6.9631,  -6.3245,  -7.1858,\n",
      "          -5.8313,  -0.6642,   2.9903,  -1.1874,  -9.0371,  -8.5528,  -6.7160,\n",
      "          -7.8311,  -9.0701,  -5.8007,  -8.3074,  -7.9086,  -4.7515,  -7.4264,\n",
      "           0.0888,  -2.7675,  -7.4124,  -8.8584,  -7.8650,  -7.1258,  -7.9573,\n",
      "          -6.4173,  -1.9477,   1.9611,  -2.0859,  -9.7457,  -9.6553,  -8.7206,\n",
      "          -9.9597,  -6.5442,  -7.9083,  -1.4235,  -8.6711,  -9.1889,  -7.1913,\n",
      "         -11.0003,  -5.7786,  -8.3826, -10.8300, -10.1144,  -9.9344,  -7.6718,\n",
      "          -5.7316,  -6.5992,  -2.4523,  -7.4837,  -7.2064,  -2.5932,   0.8929,\n",
      "          -4.3143,  -5.1203,  -7.6064,  -6.8003,  -2.3423,   1.6242,  -1.9348,\n",
      "          -4.3446,  -7.9072,  -9.6511,  -6.1182,  -8.4290,  -9.0531,  -7.1093,\n",
      "          -7.3243,  -2.4186,  -3.6659,  -7.6334,  -9.0118,  -8.1730,  -7.4902,\n",
      "          -8.5854,  -6.8876,  -2.6994,   1.0353,  -1.8453,  -7.5082]],\n",
      "       grad_fn=<CloneBackward0>), hidden_states=None, attentions=None)\n"
     ]
    }
   ],
   "source": [
    "# Pass the question and story/context to the model\n",
    "result = model(inputs.input_ids, inputs.attention_mask)\n",
    "\n",
    "print(result)"
   ]
  },
  {
   "cell_type": "code",
   "execution_count": 27,
   "metadata": {},
   "outputs": [],
   "source": [
    "# Ensure minimum and maximum token length in the answer\n",
    "import torch\n",
    "def ensure_size(input_ids, answer, min_length = 2, max_length = 5):\n",
    "   ans_start = torch.argmax(answer['start_logits'])\n",
    "   ans_end = torch.argmax(answer['end_logits']) + 1\n",
    "   ans_length = ans_end - ans_start\n",
    "   if ans_length < min_length:\n",
    "      ans_end = min(ans_start + min_length, len(input_ids[0]))\n",
    "   elif ans_length > max_length:\n",
    "      ans_end = ans_start + max_length\n",
    "   ans_start = max(0, ans_start)\n",
    "   ans_end = min(len(input_ids[0]), ans_end)\n",
    "   return (ans_start, ans_end)"
   ]
  },
  {
   "cell_type": "code",
   "execution_count": 28,
   "metadata": {},
   "outputs": [
    {
     "name": "stdout",
     "output_type": "stream",
     "text": [
      "(tensor(23), tensor(25))\n"
     ]
    }
   ],
   "source": [
    "# TODO Return a minimum of 5 tokens\n",
    "bounds = ensure_size(inputs.input_ids, result)\n",
    "print(bounds)"
   ]
  },
  {
   "cell_type": "code",
   "execution_count": 32,
   "metadata": {},
   "outputs": [
    {
     "name": "stdout",
     "output_type": "stream",
     "text": [
      "tensor([1707, 1395])\n",
      "production room\n",
      "production room\n"
     ]
    }
   ],
   "source": [
    "# get the answer from the story\n",
    "enc_answer = inputs.input_ids[0][bounds[0]: bounds[1]]\n",
    "\n",
    "print(enc_answer)\n",
    "\n",
    "print(tokenizer.decode(enc_answer))\n",
    "print(expected_ans)"
   ]
  },
  {
   "cell_type": "code",
   "execution_count": null,
   "metadata": {},
   "outputs": [],
   "source": [
    "# TODO: Try this your self\n",
    "\n",
    "context = \"\"\"\n",
    "Dickens wrote A Christmas Carol during a period when the British were exploring and re-evaluating past Christmas traditions, \n",
    "including carols, and newer customs such as cards and Christmas trees. He was influenced by the experiences of his own youth and \n",
    "by the Christmas stories of other authors, including Washington Irving and Douglas Jerrold. Dickens had written three Christmas \n",
    "stories prior to the novella, and was inspired following a visit to the Field Lane Ragged School, one of several establishments for \n",
    "London's street children. The treatment of the poor and the ability of a selfish man to redeem himself by transforming into a more \n",
    "sympathetic character are the key themes of the story. There is discussion among academics as to whether this is a fully secular \n",
    "story or a Christian allegory.\n",
    "\"\"\"\n",
    "\n",
    "question = \"How many stories has Dickens wrote?\"\n",
    "\n"
   ]
  }
 ],
 "metadata": {
  "kernelspec": {
   "display_name": ".venv",
   "language": "python",
   "name": "python3"
  },
  "language_info": {
   "codemirror_mode": {
    "name": "ipython",
    "version": 3
   },
   "file_extension": ".py",
   "mimetype": "text/x-python",
   "name": "python",
   "nbconvert_exporter": "python",
   "pygments_lexer": "ipython3",
   "version": "3.12.3"
  }
 },
 "nbformat": 4,
 "nbformat_minor": 2
}
